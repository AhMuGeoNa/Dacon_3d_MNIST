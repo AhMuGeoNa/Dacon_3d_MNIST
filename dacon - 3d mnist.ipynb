{
 "cells": [
  {
   "cell_type": "markdown",
   "id": "37e8a764-3f7d-450a-adec-a821e5e26039",
   "metadata": {},
   "source": [
    "# **0. 참고자료**\n",
    "## **0-1. 도서**    \n",
    "\n",
    "## **0-2. 논문, 학술지**\n",
    "\n",
    "## **0-3. 웹 사이트**\n",
    "- DACON 코드공유 - 데이터 확인과 회전에 의한 데이터 증강 | [[링크]](https://dacon.io/competitions/official/235951/codeshare/5906?page=1&dtype=recent)\n",
    "\n",
    "## **0-4. 데이터셋 출처**\n",
    "- DACON - 숫자 3D 이미지 분류 AI 경진대회 | [[데이터 셋 링크]](https://dacon.io/competitions/official/235951/data)\n",
    "\n",
    "# **1. 필요한 패키지 로딩**"
   ]
  },
  {
   "cell_type": "code",
   "execution_count": 1,
   "id": "d6518c16-fe28-430f-a7ec-653692870faf",
   "metadata": {},
   "outputs": [],
   "source": [
    "from sklearn.model_selection import train_test_split\n",
    "from collections import Counter\n",
    "import matplotlib.pyplot as plt\n",
    "from tqdm import tqdm\n",
    "import pandas as pd\n",
    "import numpy as np\n",
    "import cv2, os\n",
    "import h5py"
   ]
  },
  {
   "cell_type": "markdown",
   "id": "6eb2dbcb-29a5-4a3c-83e9-4d6dd81527b1",
   "metadata": {},
   "source": [
    "# **2. 데이터 확인해 보기**\n",
    "## **2-1. 데이터 로드**\n",
    "→ 학습 데이터 셋 csv에는 이미지 인덱스 : 라벨값으로 구성되어 있다.  \n",
    "→ 시험 데이터 셋 csv에는 이미지 인덱스 : 더미 라벨값으로 구성되어 있다."
   ]
  },
  {
   "cell_type": "code",
   "execution_count": 2,
   "id": "6b9ac2e3-f4fb-4f78-9385-830156826caa",
   "metadata": {},
   "outputs": [],
   "source": [
    "train_df      = pd.read_csv ('../datasets/3D_MNIST/train.csv')\n",
    "train_points  = h5py.File('../datasets/3D_MNIST/train.h5', 'r')"
   ]
  },
  {
   "cell_type": "code",
   "execution_count": 3,
   "id": "9471593f-51c2-4735-b2e8-69769af27b5a",
   "metadata": {},
   "outputs": [],
   "source": [
    "test_df = pd.read_csv('../datasets/3D_MNIST/sample_submission.csv')\n",
    "test_points = h5py.File('../datasets/3D_MNIST/test.h5', 'r') "
   ]
  },
  {
   "cell_type": "markdown",
   "id": "78d39f8b-0761-4a1f-b530-65a0127bd477",
   "metadata": {},
   "source": [
    "- 데이터 처리 용이성을 위해 point들을 numpy array형으로 변환한다."
   ]
  },
  {
   "cell_type": "code",
   "execution_count": 4,
   "id": "65bcfc4d-36aa-4307-b04c-7b45cfee2b8c",
   "metadata": {},
   "outputs": [
    {
     "name": "stderr",
     "output_type": "stream",
     "text": [
      "100%|██████████| 50000/50000 [01:25<00:00, 584.71it/s]\n",
      "100%|██████████| 50000/50000 [00:00<00:00, 2901869.40it/s]\n",
      "100%|██████████| 40000/40000 [01:46<00:00, 376.89it/s]\n"
     ]
    }
   ],
   "source": [
    "train_points = [np.array(train_points[str(idx)]) for idx in tqdm(train_df['ID'])]\n",
    "train_lb     = [lb for lb in tqdm(train_df['label'])]\n",
    "\n",
    "test_points  = [np.array(test_points[str(i)]) for i in tqdm(test_df['ID'])]"
   ]
  },
  {
   "cell_type": "code",
   "execution_count": 113,
   "id": "57137ccf-220f-466b-a92c-23b4ec0cbc3d",
   "metadata": {},
   "outputs": [],
   "source": [
    "def show_voxel(points, idx = None):\n",
    "    fig = plt.figure(figsize = (5,5))\n",
    "    ax = fig.add_subplot(111, projection = '3d')\n",
    "\n",
    "    x = points[:, 0] if idx == None else points[idx][:, 0]\n",
    "    y = points[:, 1] if idx == None else points[idx][:, 1]\n",
    "    z = points[:, 2] if idx == None else points[idx][:, 2]\n",
    "\n",
    "    ax.view_init(0, 0)\n",
    "    ax.scatter(x, y, z)\n",
    "    \n",
    "    lb = train_lb[idx] if idx != None else None\n",
    "    ax.set_title(lb)\n",
    "    \n",
    "def rotate(theta_x, theta_y, theta_z, dots):\n",
    "    mx = np.array([[1, 0, 0], [0, np.cos(theta_x), -np.sin(theta_x)], [0, np.sin(theta_x), np.cos(theta_x)]])\n",
    "    my = np.array([[np.cos(theta_y), 0, np.sin(theta_y)], [0, 1, 0], [-np.sin(theta_y), 0, np.cos(theta_y)]])\n",
    "    mz = np.array([[np.cos(theta_z), -np.sin(theta_z), 0], [np.sin(theta_z), np.cos(theta_z), 0], [0, 0, 1]])\n",
    "    \n",
    "    m = np.dot(np.dot(mx,my),mz)\n",
    "    dots = np.dot(dots, m.T)\n",
    "    \n",
    "    return dots\n"
   ]
  },
  {
   "cell_type": "code",
   "execution_count": 116,
   "id": "4bf43231-61ea-437b-8d8c-7fc96d9349b4",
   "metadata": {},
   "outputs": [
    {
     "data": {
      "image/png": "[encoded data removed]",
      "text/plain": [
       "<Figure size 360x360 with 1 Axes>"
      ]
     },
     "metadata": {
      "needs_background": "light"
     },
     "output_type": "display_data"
    }
   ],
   "source": [
    "show_voxel(train_points, 977)"
   ]
  },
  {
   "cell_type": "code",
   "execution_count": 87,
   "id": "cf087638-d313-45ef-a36f-58295c37d246",
   "metadata": {},
   "outputs": [],
   "source": [
    "train_vox, valid_vox, train_lb, valid_lb = train_test_split(train_points, train_lb, shuffle = True, stratify = train_lb, \n",
    "                                                            test_size = 0.2, random_state = 42)"
   ]
  },
  {
   "cell_type": "code",
   "execution_count": 89,
   "id": "ced222ed-fe5b-48a1-a027-40abe1a7b71f",
   "metadata": {},
   "outputs": [
    {
     "data": {
      "image/png": "[encoded data removed]",
      "text/plain": [
       "<Figure size 432x288 with 1 Axes>"
      ]
     },
     "metadata": {
      "needs_background": "light"
     },
     "output_type": "display_data"
    }
   ],
   "source": [
    "def get_graph(data):\n",
    "    plt.bar(data.keys(), data.values())\n",
    "    plt.ylim(0, 5000)\n",
    "\n",
    "    for cnt, num in data.items():\n",
    "        plt.text(cnt, num, num,\n",
    "                fontsize = 11, color = 'black',\n",
    "                horizontalalignment = 'center',\n",
    "                verticalalignment   = 'bottom')\n",
    "\n",
    "get_graph(Counter(train_lb))"
   ]
  },
  {
   "cell_type": "code",
   "execution_count": 90,
   "id": "69616193-84f8-4dfa-8ca8-ecde84bd8148",
   "metadata": {},
   "outputs": [
    {
     "data": {
      "image/png": "[encoded data removed]",
      "text/plain": [
       "<Figure size 432x288 with 1 Axes>"
      ]
     },
     "metadata": {
      "needs_background": "light"
     },
     "output_type": "display_data"
    }
   ],
   "source": [
    "get_graph(Counter(valid_lb))"
   ]
  },
  {
   "cell_type": "code",
   "execution_count": 5,
   "id": "58301d14-d27c-4d88-8a41-908ad2374742",
   "metadata": {},
   "outputs": [
    {
     "name": "stderr",
     "output_type": "stream",
     "text": [
      "/opt/conda/envs/bio/lib/python3.9/site-packages/tqdm/auto.py:22: TqdmWarning: IProgress not found. Please update jupyter and ipywidgets. See https://ipywidgets.readthedocs.io/en/stable/user_install.html\n",
      "  from .autonotebook import tqdm as notebook_tqdm\n"
     ]
    }
   ],
   "source": [
    "from torch.utils.data import Dataset, DataLoader\n",
    "from sklearn.metrics import accuracy_score\n",
    "from torchvision import transforms\n",
    "import torch.nn.functional as F\n",
    "import torch.optim as optim\n",
    "from tqdm import tqdm\n",
    "import torch.nn as nn\n",
    "import torch"
   ]
  },
  {
   "cell_type": "code",
   "execution_count": 6,
   "id": "e345f799-d0dd-4aee-8282-69dd6aff00e2",
   "metadata": {},
   "outputs": [],
   "source": [
    "EPOCHS        = 100\n",
    "BATCH_SIZE    = 64\n",
    "LEARNING_RATE = 5e-3"
   ]
  },
  {
   "cell_type": "code",
   "execution_count": 7,
   "id": "e25a1c33-eaf4-4a73-88dd-d0288b7990e4",
   "metadata": {},
   "outputs": [],
   "source": [
    "device = torch.device('cuda') if torch.cuda.is_available() else torch.device('cpu')"
   ]
  },
  {
   "cell_type": "code",
   "execution_count": 94,
   "id": "f6c02611-6317-4616-a807-7b91ebbae910",
   "metadata": {},
   "outputs": [],
   "source": [
    "class voxel_rotation(object):\n",
    "    \n",
    "    def __call__(self, point):\n",
    "        \n",
    "        angles = np.arange(np.pi / 3, 2*np.pi + np.pi / 3, np.pi / 6)\n",
    "        angle_x = np.random.choice(angles)\n",
    "        angle_y = np.random.choice(angles)\n",
    "        angle_z = np.random.choice(angles)\n",
    "\n",
    "        return rotate(angle_x, angle_y, angle_z, point)\n",
    "    \n",
    "    def __repr__(self):\n",
    "        return self.__class__.__name__+'()'"
   ]
  },
  {
   "cell_type": "code",
   "execution_count": 95,
   "id": "91298a14-f29c-49bf-9ac1-fd9a272cfb70",
   "metadata": {},
   "outputs": [],
   "source": [
    "class CustomDataset(Dataset):\n",
    "    def __init__(self, labels, points):\n",
    "        self.labels  = labels\n",
    "        self.points  = points\n",
    "        self.transforms = transforms.Compose([\n",
    "                                        voxel_rotation()\n",
    "                                    ])\n",
    "        \n",
    "    def __getitem__(self, index):\n",
    "        \n",
    "        points = self.points[index][:]\n",
    "        # points = self.transforms(points)\n",
    "        image  = self.get_vector(points)\n",
    "    \n",
    "        if self.labels is not None:\n",
    "            label = self.labels[index]\n",
    "            return torch.Tensor(image).unsqueeze(0), label\n",
    "        \n",
    "        else:\n",
    "            return torch.Tensor(image).unsqueeze(0)\n",
    "        \n",
    "    def get_vector(self, points, x_y_z = [16, 16, 16]):\n",
    "        \n",
    "        xyzmin = np.min(points, axis = 0) - 0.001\n",
    "        xyzmax = np.max(points, axis = 0) + 0.001\n",
    "        \n",
    "        diff   = max(xyzmax-xyzmin) - (xyzmax - xyzmin)\n",
    "        xyzmin = xyzmin - diff / 2\n",
    "        xyzmax = xyzmax + diff / 2\n",
    "        \n",
    "        segments, shape = [], []\n",
    "        for i in range(3):\n",
    "            \n",
    "            if type(x_y_z[i]) is not int: raise TypeError(f'x_y_z[{i}] must be int')\n",
    "            \n",
    "            s, step = np.linspace(xyzmin[i], xyzmax[i], num = (x_y_z[i] + 1), retstep = True)\n",
    "            segments.append(s)\n",
    "            shape.append(step)\n",
    "        \n",
    "        n_voxels = x_y_z[0] * x_y_z[1] * x_y_z[2]\n",
    "        n_x      = x_y_z[0]\n",
    "        n_y      = x_y_z[1]\n",
    "        n_z      = x_y_z[2]\n",
    "        \n",
    "        structure = np.zeros((len(points), 4), dtype = int)\n",
    "        structure[:,0] = np.searchsorted(segments[0], points[:,0]) - 1\n",
    "        structure[:,1] = np.searchsorted(segments[1], points[:,1]) - 1\n",
    "        structure[:,2] = np.searchsorted(segments[2], points[:,2]) - 1\n",
    "\n",
    "        # i = ((y * n_x) + x) + (z * (n_x * n_y))\n",
    "        structure[:,3] = ((structure[:,1] * n_x) + structure[:,0]) + (structure[:,2] * (n_x * n_y))\n",
    "        \n",
    "        vector = np.zeros(n_voxels)\n",
    "        count = np.bincount(structure[:,3])\n",
    "        vector[:len(count)] = count\n",
    "\n",
    "        vector = vector.reshape(n_z, n_y, n_x)\n",
    "        return vector\n",
    "\n",
    "    def __len__(self):\n",
    "        return len(self.points)"
   ]
  },
  {
   "cell_type": "code",
   "execution_count": 96,
   "id": "5b40f0c4-6cb0-410a-8bca-52c0d7704d2b",
   "metadata": {},
   "outputs": [],
   "source": [
    "train_dataset = CustomDataset(train_lb, train_vox)\n",
    "train_loader = DataLoader(train_dataset, batch_size = BATCH_SIZE, shuffle=True, num_workers=0)\n",
    "\n",
    "val_dataset = CustomDataset(valid_lb, valid_vox)\n",
    "val_loader = DataLoader(val_dataset, batch_size=BATCH_SIZE, shuffle=False, num_workers=0)"
   ]
  },
  {
   "cell_type": "code",
   "execution_count": 97,
   "id": "cee2d6d7-7d58-41cb-9ca6-71d49470194e",
   "metadata": {},
   "outputs": [
    {
     "data": {
      "text/plain": [
       "torch.Size([64, 1, 16, 16, 16])"
      ]
     },
     "execution_count": 97,
     "metadata": {},
     "output_type": "execute_result"
    }
   ],
   "source": [
    "train_sample = iter(train_loader)\n",
    "image, _     = next(train_sample)\n",
    "\n",
    "image.size()"
   ]
  },
  {
   "cell_type": "code",
   "execution_count": 13,
   "id": "7512794f-a980-4ec9-97d1-ddcee9f5c994",
   "metadata": {},
   "outputs": [],
   "source": [
    "class BaseModel(nn.Module):\n",
    "    def __init__(self):\n",
    "        super(BaseModel,self).__init__()\n",
    "        self.feature_extract = nn.Sequential(\n",
    "            nn.Conv3d(1,8,3),\n",
    "            nn.ReLU(),\n",
    "            nn.BatchNorm3d(8),\n",
    "            nn.Conv3d(8,32,3),\n",
    "            nn.ReLU(),\n",
    "            nn.BatchNorm3d(32),\n",
    "            nn.MaxPool3d(4),\n",
    "            nn.Conv3d(32,128,3),\n",
    "            nn.ReLU(),\n",
    "        )\n",
    "        self.classifier = nn.Sequential(\n",
    "                                nn.Linear(128, 64),\n",
    "                                nn.ReLU(),\n",
    "                                nn.Dropout(p = 0.3),\n",
    "                                nn.Linear(64, 32),\n",
    "                                nn.ReLU(),\n",
    "                                nn.Dropout(p = 0.3),\n",
    "                                nn.Linear(32, 10)\n",
    "                            )\n",
    "\n",
    "    def forward(self,x):\n",
    "        x = self.feature_extract(x)\n",
    "        x = x.view(x.size()[0],-1)\n",
    "        x = self.classifier(x)\n",
    "        return x"
   ]
  },
  {
   "cell_type": "code",
   "execution_count": 14,
   "id": "1f2d006b-bd89-4f6f-8eff-cc6aa14eb821",
   "metadata": {},
   "outputs": [],
   "source": [
    "class ResidualBlock(nn.Module):\n",
    "    \n",
    "    def __init__(self, in_planes, planes, stride = 1):\n",
    "        \n",
    "        super(ResidualBlock, self).__init__()\n",
    "        self.conv1 = nn.Conv3d(in_planes, planes, kernel_size = 3, stride = stride, padding = 1, bias = False)\n",
    "        self.bn1   = nn.BatchNorm3d(planes)\n",
    "        \n",
    "        self.conv2 = nn.Conv3d(planes, planes, kernel_size = 3, stride = 1, padding = 1, bias = False)\n",
    "        self.bn2   = nn.BatchNorm3d(planes)\n",
    "        \n",
    "        self.shortcut = nn.Sequential()\n",
    "        condition = [stride != 1, in_planes != planes]\n",
    "        \n",
    "        if any(condition):\n",
    "            self.shorcut = nn.Sequential(\n",
    "                            nn.Conv3d(in_planes, planes, kernel_size = 1, stride = stride,\n",
    "                                        bias = False),\n",
    "                            nn.BatchNorm3d(planes)\n",
    "                        )\n",
    "    \n",
    "    def forward(self, x):\n",
    "        out = F.relu(self.bn1(self.conv1(x)))\n",
    "        print(1, out.size())\n",
    "        \n",
    "        out = self.bn2(self.conv2(out))\n",
    "        \n",
    "        print(2, out.size())\n",
    "        out += self.shortcut(x)\n",
    "        \n",
    "        print(3, out.size())\n",
    "        out = F.relu(out)\n",
    "        \n",
    "        print(4, out.size())\n",
    "        return out"
   ]
  },
  {
   "cell_type": "code",
   "execution_count": 15,
   "id": "8aa3151a-57c7-4cc8-8fcc-b0081712b1f4",
   "metadata": {},
   "outputs": [],
   "source": [
    "class ResNetV(nn.Module):\n",
    "    \n",
    "    def __init__(self, num_classes = 10):\n",
    "        \n",
    "        super(ResNetV, self).__init__()\n",
    "        self.in_planes = 8\n",
    "        \n",
    "        self.conv1 = nn.Conv3d(1, 8, kernel_size = 3, stride = 1, padding = 1, bias = False)\n",
    "        self.bn1   = nn.BatchNorm3d(8)\n",
    "        \n",
    "        self.residual1 = self._make_block(8, 2, stride = 1)\n",
    "        self.residual2 = self._make_block(16, 2, stride = 2)\n",
    "        self.residual3 = self._make_block(32, 2, stride = 2)\n",
    "        self.linear    = nn.Linear(32, num_classes)\n",
    "       \n",
    "    \n",
    "    def _make_block(self, planes, num_blocks, stride):\n",
    "        \n",
    "        strides = [stride] + []*(num_blocks - 1)\n",
    "        layers  = []\n",
    "        \n",
    "        for stride in strides:\n",
    "            layers.append(ResidualBlock(self.in_planes, planes, stride))\n",
    "            self.in_planes = planes\n",
    "            \n",
    "        return nn.Sequential(*layers)\n",
    "    \n",
    "    def forward(self, x):\n",
    "        out = F.relu(self.bn1(self.conv1(x)))\n",
    "        out = self.residual1(out)\n",
    "        out = self.residual2(out)\n",
    "        out = self.residual3(out)\n",
    "        \n",
    "        out = F.avg_pool3d(out, 8)\n",
    "        out = out.view(out.size(0), -1)\n",
    "        out = self.linear(out)\n",
    "        \n",
    "        return out"
   ]
  },
  {
   "cell_type": "code",
   "execution_count": 24,
   "id": "f66e0be3-aa4b-4608-965b-e9a7bf46aa6f",
   "metadata": {},
   "outputs": [],
   "source": [
    "def train(model, optimizer, train_loader, val_loader, scheduler, device):\n",
    "    model.to(device)\n",
    "    criterion = nn.CrossEntropyLoss().to(device)\n",
    "    best_score = 0\n",
    "    for epoch in range(1, EPOCHS + 1):\n",
    "        model.train()\n",
    "        train_loss = []\n",
    "        for data, label in train_loader:\n",
    "            data, label = data.float().to(device), label.long().to(device)\n",
    "            optimizer.zero_grad()\n",
    "            \n",
    "            output = model(data)\n",
    "            loss = criterion(output, label)\n",
    "            \n",
    "            loss.backward()\n",
    "            optimizer.step()\n",
    "            \n",
    "            train_loss.append(loss.item())\n",
    "        \n",
    "        if scheduler is not None:\n",
    "            scheduler.step()\n",
    "            \n",
    "        val_loss, val_acc = validation(model, criterion, val_loader, device)\n",
    "        print(f'Epoch : [{epoch}] Train Loss : [{np.mean(train_loss)}] Val Loss : [{val_loss}] Val ACC : [{val_acc}]')\n",
    "        \n",
    "        if best_score < val_acc:\n",
    "            best_score = val_acc\n",
    "            torch.save(model.state_dict(), './best_model.pth')"
   ]
  },
  {
   "cell_type": "code",
   "execution_count": 25,
   "id": "b45184eb-a2a9-423f-bb8b-d95182afe9ae",
   "metadata": {},
   "outputs": [],
   "source": [
    "def validation(model, criterion, val_loader, device):\n",
    "    model.eval()\n",
    "    true_labels = []\n",
    "    model_preds = []\n",
    "    val_loss = []\n",
    "    with torch.no_grad():\n",
    "        for data, label in tqdm(iter(val_loader)):\n",
    "            data, label = data.float().to(device), label.long().to(device)\n",
    "            \n",
    "            model_pred = model(data)\n",
    "            loss = criterion(model_pred, label)\n",
    "            \n",
    "            val_loss.append(loss.item())\n",
    "            \n",
    "            model_preds += model_pred.argmax(1).detach().cpu().numpy().tolist()\n",
    "            true_labels += label.detach().cpu().numpy().tolist()\n",
    "    \n",
    "    return np.mean(val_loss), accuracy_score(true_labels, model_preds)"
   ]
  },
  {
   "cell_type": "code",
   "execution_count": 26,
   "id": "9084f713-02f1-48e8-b6e1-4234345970b9",
   "metadata": {},
   "outputs": [
    {
     "data": {
      "text/plain": [
       "ResNetV(\n",
       "  (conv1): Conv3d(1, 8, kernel_size=(3, 3, 3), stride=(1, 1, 1), padding=(1, 1, 1), bias=False)\n",
       "  (bn1): BatchNorm3d(8, eps=1e-05, momentum=0.1, affine=True, track_running_stats=True)\n",
       "  (residual1): Sequential(\n",
       "    (0): ResidualBlock(\n",
       "      (conv1): Conv3d(8, 8, kernel_size=(3, 3, 3), stride=(1, 1, 1), padding=(1, 1, 1), bias=False)\n",
       "      (bn1): BatchNorm3d(8, eps=1e-05, momentum=0.1, affine=True, track_running_stats=True)\n",
       "      (conv2): Conv3d(8, 8, kernel_size=(3, 3, 3), stride=(1, 1, 1), padding=(1, 1, 1), bias=False)\n",
       "      (bn2): BatchNorm3d(8, eps=1e-05, momentum=0.1, affine=True, track_running_stats=True)\n",
       "      (shortcut): Sequential()\n",
       "    )\n",
       "  )\n",
       "  (residual2): Sequential(\n",
       "    (0): ResidualBlock(\n",
       "      (conv1): Conv3d(8, 16, kernel_size=(3, 3, 3), stride=(2, 2, 2), padding=(1, 1, 1), bias=False)\n",
       "      (bn1): BatchNorm3d(16, eps=1e-05, momentum=0.1, affine=True, track_running_stats=True)\n",
       "      (conv2): Conv3d(16, 16, kernel_size=(3, 3, 3), stride=(1, 1, 1), padding=(1, 1, 1), bias=False)\n",
       "      (bn2): BatchNorm3d(16, eps=1e-05, momentum=0.1, affine=True, track_running_stats=True)\n",
       "      (shortcut): Sequential()\n",
       "      (shorcut): Sequential(\n",
       "        (0): Conv3d(8, 16, kernel_size=(1, 1, 1), stride=(2, 2, 2), bias=False)\n",
       "        (1): BatchNorm3d(16, eps=1e-05, momentum=0.1, affine=True, track_running_stats=True)\n",
       "      )\n",
       "    )\n",
       "  )\n",
       "  (residual3): Sequential(\n",
       "    (0): ResidualBlock(\n",
       "      (conv1): Conv3d(16, 32, kernel_size=(3, 3, 3), stride=(2, 2, 2), padding=(1, 1, 1), bias=False)\n",
       "      (bn1): BatchNorm3d(32, eps=1e-05, momentum=0.1, affine=True, track_running_stats=True)\n",
       "      (conv2): Conv3d(32, 32, kernel_size=(3, 3, 3), stride=(1, 1, 1), padding=(1, 1, 1), bias=False)\n",
       "      (bn2): BatchNorm3d(32, eps=1e-05, momentum=0.1, affine=True, track_running_stats=True)\n",
       "      (shortcut): Sequential()\n",
       "      (shorcut): Sequential(\n",
       "        (0): Conv3d(16, 32, kernel_size=(1, 1, 1), stride=(2, 2, 2), bias=False)\n",
       "        (1): BatchNorm3d(32, eps=1e-05, momentum=0.1, affine=True, track_running_stats=True)\n",
       "      )\n",
       "    )\n",
       "  )\n",
       "  (linear): Linear(in_features=32, out_features=10, bias=True)\n",
       ")"
      ]
     },
     "execution_count": 26,
     "metadata": {},
     "output_type": "execute_result"
    }
   ],
   "source": [
    "model = ResNetV()\n",
    "model"
   ]
  },
  {
   "cell_type": "code",
   "execution_count": null,
   "id": "cb7b874d-b983-47cf-87c1-b7899ecd1780",
   "metadata": {},
   "outputs": [],
   "source": [
    "model = ResNetV()\n",
    "model.eval()\n",
    "\n",
    "optimizer = torch.optim.Adam(params = model.parameters(), lr = LEARNING_RATE)\n",
    "scheduler = torch.optim.lr_scheduler.CosineAnnealingLR(optimizer, T_max = 50, eta_min = 1e-6)\n",
    "\n",
    "train(model, optimizer, train_loader, val_loader, scheduler, device)"
   ]
  },
  {
   "cell_type": "code",
   "execution_count": 21,
   "id": "04a6d26e-abbf-4488-94f1-81272dc4d7f2",
   "metadata": {},
   "outputs": [],
   "source": [
    "test_dataset = CustomDataset(None, test_points)\n",
    "test_loader = DataLoader(test_dataset, batch_size=16, shuffle=False, num_workers=0)"
   ]
  },
  {
   "cell_type": "code",
   "execution_count": 22,
   "id": "bab0f9d2-b0ec-4b2c-b609-ef035a267a19",
   "metadata": {},
   "outputs": [
    {
     "data": {
      "text/plain": [
       "BaseModel(\n",
       "  (feature_extract): Sequential(\n",
       "    (0): Conv3d(1, 8, kernel_size=(3, 3, 3), stride=(1, 1, 1))\n",
       "    (1): ReLU()\n",
       "    (2): BatchNorm3d(8, eps=1e-05, momentum=0.1, affine=True, track_running_stats=True)\n",
       "    (3): Conv3d(8, 32, kernel_size=(3, 3, 3), stride=(1, 1, 1))\n",
       "    (4): ReLU()\n",
       "    (5): BatchNorm3d(32, eps=1e-05, momentum=0.1, affine=True, track_running_stats=True)\n",
       "    (6): MaxPool3d(kernel_size=4, stride=4, padding=0, dilation=1, ceil_mode=False)\n",
       "    (7): Conv3d(32, 128, kernel_size=(3, 3, 3), stride=(1, 1, 1))\n",
       "    (8): ReLU()\n",
       "  )\n",
       "  (classifier): Sequential(\n",
       "    (0): Linear(in_features=128, out_features=64, bias=True)\n",
       "    (1): ReLU()\n",
       "    (2): Dropout(p=0.3, inplace=False)\n",
       "    (3): Linear(in_features=64, out_features=32, bias=True)\n",
       "    (4): ReLU()\n",
       "    (5): Dropout(p=0.3, inplace=False)\n",
       "    (6): Linear(in_features=32, out_features=10, bias=True)\n",
       "  )\n",
       ")"
      ]
     },
     "execution_count": 22,
     "metadata": {},
     "output_type": "execute_result"
    }
   ],
   "source": [
    "checkpoint = torch.load('./best_model.pth')\n",
    "model = BaseModel()\n",
    "model.load_state_dict(checkpoint)\n",
    "model.eval()"
   ]
  },
  {
   "cell_type": "code",
   "execution_count": 23,
   "id": "3317de73-94cd-465e-9055-dd0f7982c2b0",
   "metadata": {},
   "outputs": [],
   "source": [
    "def predict(model, test_loader, device):\n",
    "    model.to(device)\n",
    "    model.eval()\n",
    "    model_preds = []\n",
    "    with torch.no_grad():\n",
    "        for data in tqdm(iter(test_loader)):\n",
    "            data = data.float().to(device)\n",
    "            \n",
    "            batch_pred = model(data)\n",
    "            \n",
    "            model_preds += batch_pred.argmax(1).detach().cpu().numpy().tolist()\n",
    "    \n",
    "    return model_preds"
   ]
  },
  {
   "cell_type": "code",
   "execution_count": 24,
   "id": "f63372fd-a0e9-4029-ae1c-20f34cbb0c7d",
   "metadata": {},
   "outputs": [
    {
     "name": "stderr",
     "output_type": "stream",
     "text": [
      "100%|██████████| 2500/2500 [02:24<00:00, 17.34it/s]\n"
     ]
    }
   ],
   "source": [
    "preds = predict(model, test_loader, device)"
   ]
  },
  {
   "cell_type": "code",
   "execution_count": 25,
   "id": "ab35e910-5abc-4f19-9b3c-cb929169d832",
   "metadata": {},
   "outputs": [],
   "source": [
    "test_df['label'] = preds\n",
    "test_df.to_csv('submit/submit.csv', index=False)"
   ]
  },
  {
   "cell_type": "markdown",
   "id": "fefe5ef1-9bab-4143-9992-63b5527bc82f",
   "metadata": {},
   "source": [
    "## **3D 이미지를 2D 이미지로 바꿔서 해보자**"
   ]
  },
  {
   "cell_type": "code",
   "execution_count": 8,
   "id": "c51647b7-2a64-4097-93d3-d3c31c493f63",
   "metadata": {},
   "outputs": [],
   "source": [
    "from sklearn.metrics import classification_report\n",
    "from sklearn .decomposition import PCA\n",
    "from PIL import Image\n",
    "import io"
   ]
  },
  {
   "cell_type": "code",
   "execution_count": 9,
   "id": "d2308589-bb83-4a99-9748-d5b94ee1f4e3",
   "metadata": {},
   "outputs": [],
   "source": [
    "def decomposition(voxel, pca):\n",
    "    \n",
    "    image = pca.fit_transform(voxel)\n",
    "    x, y  = image[:, 0], image[:, 1]\n",
    "    \n",
    "    fig = plt.figure(figsize = (1, 1))\n",
    "    plt.scatter(x, y, s = 0.1)\n",
    "    plt.axis(False)\n",
    "    plt.close()\n",
    "    \n",
    "    return get_image_from_fig(fig)\n",
    "\n",
    "def get_image_from_fig(fig, dpi = 50):\n",
    "    \n",
    "    buf = io.BytesIO()\n",
    "    fig.savefig(buf, format = 'jpg', dpi = dpi)\n",
    "    buf.seek(0)\n",
    "    \n",
    "    image = np.frombuffer(buf.getvalue(), dtype = np.uint8)\n",
    "    buf.close()\n",
    "    \n",
    "    image = cv2.imdecode(image, 1)\n",
    "    image = cv2.cvtColor(image, cv2.COLOR_BGR2RGB)\n",
    "    \n",
    "    return image\n",
    "\n",
    "def RotateImage(image, angle, scale = 1):\n",
    "    \n",
    "    if image.ndim > 2: h, w, c = image.shape\n",
    "    else: h, w = image.shape\n",
    "    \n",
    "    matrix = cv2.getRotationMatrix2D((w / 2, h / 2), angle, scale)\n",
    "    result = cv2.warpAffine(image, matrix, (w, h))\n",
    "    \n",
    "    return result"
   ]
  },
  {
   "cell_type": "code",
   "execution_count": 10,
   "id": "061c3810-5980-4b5b-80cf-a8cc9838a36a",
   "metadata": {},
   "outputs": [
    {
     "name": "stderr",
     "output_type": "stream",
     "text": [
      "50000it [23:21, 35.68it/s]\n"
     ]
    }
   ],
   "source": [
    "pca    = PCA(n_components = 2)\n",
    "images, labels = [], []\n",
    "images_append  = images.append\n",
    "labels_append  = labels.append\n",
    "angles = np.arange(np.pi / 6, 2*np.pi + np.pi / 6, np.pi / 6)\n",
    "\n",
    "for voxel, lb in tqdm(zip(train_points, train_lb)):\n",
    "    image = decomposition(voxel, pca)\n",
    "    image = cv2.cvtColor(image, cv2.COLOR_BGR2GRAY)\n",
    "    \n",
    "    for angle in angles:\n",
    "        rot_image = RotateImage(image, angle)\n",
    "        images_append(rot_image)\n",
    "        labels_append(lb)"
   ]
  },
  {
   "cell_type": "code",
   "execution_count": 11,
   "id": "5d3116f9-56f8-4183-b1f2-93b23763fdb2",
   "metadata": {},
   "outputs": [
    {
     "data": {
      "text/plain": [
       "((600000, 50, 50), (600000,))"
      ]
     },
     "execution_count": 11,
     "metadata": {},
     "output_type": "execute_result"
    }
   ],
   "source": [
    "images = np.array(images)\n",
    "labels = np.array(labels)\n",
    "\n",
    "images.shape, labels.shape"
   ]
  },
  {
   "cell_type": "code",
   "execution_count": 12,
   "id": "7d1ad67c-1d32-4509-9f18-d6c36d0a9bf2",
   "metadata": {},
   "outputs": [],
   "source": [
    "train_image, valid_image, train_lb, valid_lb = train_test_split(images, labels, shuffle = True, stratify = labels, \n",
    "                                                            test_size = 0.2, random_state = 99)"
   ]
  },
  {
   "cell_type": "code",
   "execution_count": 13,
   "id": "db4ac3cc-102a-4277-96fb-d5fd373ef0c9",
   "metadata": {},
   "outputs": [],
   "source": [
    "class FlattenDataset(Dataset):\n",
    "    \n",
    "    def __init__(self, images, labels = None, dtype = 'train'):\n",
    "        \n",
    "        self.images = images\n",
    "        self.labels = labels\n",
    "        \n",
    "        self.transforms = transforms.Compose([\n",
    "                                                transforms.ToPILImage(),\n",
    "                                                transforms.Resize((32, 32)),\n",
    "                                                transforms.ToTensor()\n",
    "                                            ])\n",
    "        \n",
    "        self.num_datas = self.labels.shape[0]\n",
    "        self.dtype     = dtype\n",
    "        \n",
    "        \n",
    "    def __getitem__(self, index):\n",
    "        \n",
    "        image, lb = self.images[index], self.labels[index]\n",
    "        image     = self.transforms(image)\n",
    "        \n",
    "        return image, lb\n",
    "    \n",
    "    def __len__(self):\n",
    "        return self.num_datas"
   ]
  },
  {
   "cell_type": "code",
   "execution_count": 15,
   "id": "bedb3970-57d0-4190-94d4-7fa8cda8307e",
   "metadata": {},
   "outputs": [
    {
     "data": {
      "text/plain": [
       "(-0.5, 31.5, 31.5, -0.5)"
      ]
     },
     "execution_count": 15,
     "metadata": {},
     "output_type": "execute_result"
    },
    {
     "data": {
      "image/png": "[encoded data removed]",
      "text/plain": [
       "<Figure size 432x288 with 1 Axes>"
      ]
     },
     "metadata": {
      "needs_background": "light"
     },
     "output_type": "display_data"
    }
   ],
   "source": [
    "train_dataset = FlattenDataset(train_image, train_lb)\n",
    "train_loader  = DataLoader(train_dataset, batch_size = BATCH_SIZE)\n",
    "\n",
    "train_iter     = iter(train_loader)\n",
    "images, labels = next(train_iter)\n",
    "\n",
    "image = images[32]\n",
    "label = labels[32]\n",
    "\n",
    "plt.imshow(np.transpose(image, (1, 2, 0)), cmap='gray')\n",
    "plt.title(label)\n",
    "plt.axis(False)"
   ]
  },
  {
   "cell_type": "code",
   "execution_count": 16,
   "id": "cad737dd-3e5e-4a66-a454-1fcac16d1b37",
   "metadata": {},
   "outputs": [
    {
     "data": {
      "text/plain": [
       "(-0.5, 31.5, 31.5, -0.5)"
      ]
     },
     "execution_count": 16,
     "metadata": {},
     "output_type": "execute_result"
    },
    {
     "data": {
      "image/png": "[encoded data removed]",
      "text/plain": [
       "<Figure size 432x288 with 1 Axes>"
      ]
     },
     "metadata": {
      "needs_background": "light"
     },
     "output_type": "display_data"
    }
   ],
   "source": [
    "valid_dataset = FlattenDataset(valid_image, valid_lb)\n",
    "valid_loader  = DataLoader(valid_dataset, batch_size = BATCH_SIZE)\n",
    "\n",
    "valid_iter     = iter(valid_loader)\n",
    "images, labels = next(valid_iter)\n",
    "\n",
    "image = images[32]\n",
    "label = labels[32]\n",
    "\n",
    "plt.imshow(np.transpose(image, (1, 2, 0)), cmap='gray')\n",
    "plt.title(label)\n",
    "plt.axis(False)"
   ]
  },
  {
   "cell_type": "code",
   "execution_count": 17,
   "id": "2667f7d9-3a0d-4885-9b81-e706ab50214c",
   "metadata": {},
   "outputs": [],
   "source": [
    "## ResNet 모델 구성\n",
    "class ResNet(nn.Module):\n",
    "  def __init__(self, num_classes=10):\n",
    "    super(ResNet, self).__init__()\n",
    "    ## layer1 층이 받는 채널의 개수가 16개 이므로 in_planes 변수를 16으로 초기화\n",
    "    self.in_planes = 16\n",
    "\n",
    "    ## 3 x 3 커널 크기를 가지면 3색의 채널을 16개로 만들어줌.\n",
    "    self.conv1   = nn.Conv2d(1, 16, kernel_size = 3, stride = 1, padding = 1, bias = False)\n",
    "    self.bn1     = nn.BatchNorm2d(16)\n",
    "\n",
    "    ## 16채널 -> 16채널로 내보내는 Residual Block 2개\n",
    "    self.layers1 = self._make_block(16, 2, stride = 1)\n",
    "\n",
    "    ## 16채널 -> 32채널로 내보내는 Residual Block 2개\n",
    "    self.layers2 = self._make_block(32, 2, stride = 2)\n",
    "\n",
    "    ## 32채널 -> 64채널로 내보내는 Residual Block 2개\n",
    "    self.layers3 = self._make_block(64, 2, stride = 2)\n",
    "    \n",
    "    self.dropout  = nn.Dropout2d()\n",
    "    self.linear1  = nn.Linear(64, 32)\n",
    "    self.linear2  = nn.Linear(32, num_classes)\n",
    "\n",
    "  def _make_block(self, planes, num_blocks, stride):\n",
    "    strides = [stride] + []*(num_blocks - 1)\n",
    "    layers  = []\n",
    "\n",
    "    for stride in strides:\n",
    "      layers.append(ResidualBlock(self.in_planes, planes, stride))\n",
    "      self.in_planes = planes\n",
    "    \n",
    "    return nn.Sequential(*layers)\n",
    "\n",
    "  def forward(self, x):\n",
    "    out = F.relu(self.bn1(self.conv1(x)))\n",
    "    out = self.layers1(out)\n",
    "    out = self.layers2(out)\n",
    "    out = self.layers3(out)\n",
    "\n",
    "    out = F.avg_pool2d(out, 8)\n",
    "    out = out.view(out.size(0), -1)\n",
    "    \n",
    "    out = F.relu(self.linear1(out))\n",
    "    out = self.dropout(out)\n",
    "    \n",
    "    out = F.relu(self.linear2(out))\n",
    "    out = out\n",
    "\n",
    "    return out"
   ]
  },
  {
   "cell_type": "code",
   "execution_count": 18,
   "id": "b64d26bb-b573-4c13-b921-cc4f5b798065",
   "metadata": {},
   "outputs": [],
   "source": [
    "## Residual 블럭 구성\n",
    "class ResidualBlock(nn.Module):\n",
    "\n",
    "  def __init__(self, in_planes, planes, stride = 1):\n",
    "    super(ResidualBlock, self).__init__()\n",
    "    \n",
    "    self.conv1 = nn.Conv2d(in_planes, planes, kernel_size = 3,\n",
    "                            stride = stride, padding = 1, bias = False)\n",
    "    self.bn1   = nn.BatchNorm2d(planes)\n",
    "    self.conv2 = nn.Conv2d(planes, planes, kernel_size = 3,\n",
    "                            stride = 1, padding = 1, bias  = False)\n",
    "    self.bn2   = nn.BatchNorm2d(planes)\n",
    "\n",
    "    ## ResNet의 두 번째 블록부터 in_planes를 받아 self.bn2 계층의 출력 크기와 같은\n",
    "    ## planes와 더해주는 self.shortcut 모듈 정의\n",
    "\n",
    "    ## nn.Sequential은 여러 모듈을 하나의 모듈로 묶는 역할\n",
    "    ## 각 레이어를 데이터가 순차적으로 지나갈 때 사용하면 코드를 간결하게 사용할 수 있음.\n",
    "    self.shortcut = nn.Sequential()\n",
    "    condition = [stride != 1, in_planes != planes]\n",
    "    \n",
    "    if any(condition):\n",
    "      self.shortcut = nn.Sequential(\n",
    "                      nn.Conv2d(in_planes, planes,\n",
    "                                kernel_size = 1, stride = stride, bias = False),\n",
    "                                nn.BatchNorm2d(planes)\n",
    "                    )\n",
    "      \n",
    "\n",
    "  def forward(self, x):\n",
    "      out = F.relu(self.bn1(self.conv1(x)))\n",
    "      out = self.bn2(self.conv2(out))\n",
    "\n",
    "      ## stride = 1이므로, in_planes와 planes가 다른 경우 shortcut층을 더해줌.\n",
    "      out += self.shortcut(x)\n",
    "      out = F.relu(out)\n",
    "\n",
    "      return out"
   ]
  },
  {
   "cell_type": "code",
   "execution_count": 19,
   "id": "077f4e36-4197-4758-bf74-8dbc1f291618",
   "metadata": {},
   "outputs": [],
   "source": [
    "model     = ResNet().to(device)\n",
    "optimizer = optim.SGD(model.parameters(), lr = LEARNING_RATE, momentum = 0.9)\n",
    "# scheduler = torch.optim.lr_scheduler.CosineAnnealingLR(optimizer, T_max = 20, eta_min = 1e-6)"
   ]
  },
  {
   "cell_type": "code",
   "execution_count": 20,
   "id": "f678ada0-235f-4de6-9a55-38d1463b04ad",
   "metadata": {},
   "outputs": [],
   "source": [
    "def train(model, train_loader, optimizer):\n",
    "  model.train()\n",
    "  train_loss, correct = 0, 0\n",
    "\n",
    "  for batch_idx, (img, lb) in enumerate(tqdm(train_loader)):\n",
    "    img, lb   = img.to(device), lb.to(device)\n",
    "    optimizer.zero_grad()\n",
    "\n",
    "\n",
    "    output = model(img)\n",
    "    loss   = F.cross_entropy(output, lb)\n",
    "\n",
    "    loss.backward()\n",
    "    optimizer.step()\n",
    "    \n",
    "    pred     = output.max(1, keepdim = True)[1]\n",
    "    correct   += pred.eq(lb.view_as(pred)).sum().item()\n",
    "    train_loss += loss \n",
    "\n",
    "  train_loss /= len(train_loader.dataset)\n",
    "  train_acc   = 100 * correct / len(train_loader.dataset)\n",
    "\n",
    "  return train_loss, train_acc\n",
    "\n",
    "\n",
    "def evaluate(model, test_loader):\n",
    "  model.eval()\n",
    "  test_loss, correct = 0, 0\n",
    "\n",
    "  with torch.no_grad():\n",
    "    for data, lb in tqdm(test_loader):\n",
    "      data, lb = data.to(device), lb.to(device)\n",
    "      output   = model(data)\n",
    "\n",
    "      test_loss += F.cross_entropy(output, lb, reduction = 'sum').item()\n",
    "      pred     = output.max(1, keepdim = True)[1]\n",
    "      correct += pred.eq(lb.view_as(pred)).sum().item()\n",
    "\n",
    "  test_loss /= len(test_loader.dataset)\n",
    "  test_acc   = 100 * correct / len(test_loader.dataset)\n",
    "  return test_loss, test_acc"
   ]
  },
  {
   "cell_type": "code",
   "execution_count": null,
   "id": "12113792-dccb-4df6-a7a4-e207153e2d3c",
   "metadata": {},
   "outputs": [
    {
     "name": "stdout",
     "output_type": "stream",
     "text": [
      "[1 / 100]\n"
     ]
    },
    {
     "name": "stderr",
     "output_type": "stream",
     "text": [
      "100%|██████████| 7500/7500 [02:00<00:00, 62.06it/s]\n",
      "100%|██████████| 1875/1875 [00:14<00:00, 125.12it/s]\n"
     ]
    },
    {
     "name": "stdout",
     "output_type": "stream",
     "text": [
      "Train Loss : 0.013 | Train Acc : 73.176 \n",
      "Test Loss : 0.343 | Test Acc : 89.402\n",
      "\n",
      "[2 / 100]\n"
     ]
    },
    {
     "name": "stderr",
     "output_type": "stream",
     "text": [
      "100%|██████████| 7500/7500 [02:01<00:00, 61.62it/s]\n",
      "100%|██████████| 1875/1875 [00:15<00:00, 120.97it/s]\n"
     ]
    },
    {
     "name": "stdout",
     "output_type": "stream",
     "text": [
      "Train Loss : 0.007 | Train Acc : 85.663 \n",
      "Test Loss : 0.285 | Test Acc : 91.079\n",
      "\n",
      "[3 / 100]\n"
     ]
    },
    {
     "name": "stderr",
     "output_type": "stream",
     "text": [
      "100%|██████████| 7500/7500 [02:02<00:00, 61.13it/s]\n",
      "100%|██████████| 1875/1875 [00:14<00:00, 131.71it/s]\n"
     ]
    },
    {
     "name": "stdout",
     "output_type": "stream",
     "text": [
      "Train Loss : 0.006 | Train Acc : 87.934 \n",
      "Test Loss : 0.273 | Test Acc : 91.179\n",
      "\n",
      "[4 / 100]\n"
     ]
    },
    {
     "name": "stderr",
     "output_type": "stream",
     "text": [
      "100%|██████████| 7500/7500 [02:02<00:00, 61.45it/s]\n",
      "100%|██████████| 1875/1875 [00:15<00:00, 122.72it/s]\n"
     ]
    },
    {
     "name": "stdout",
     "output_type": "stream",
     "text": [
      "Train Loss : 0.005 | Train Acc : 89.497 \n",
      "Test Loss : 0.199 | Test Acc : 93.772\n",
      "\n",
      "[5 / 100]\n"
     ]
    },
    {
     "name": "stderr",
     "output_type": "stream",
     "text": [
      "100%|██████████| 7500/7500 [02:05<00:00, 59.64it/s]\n",
      "100%|██████████| 1875/1875 [00:14<00:00, 127.24it/s]\n"
     ]
    },
    {
     "name": "stdout",
     "output_type": "stream",
     "text": [
      "Train Loss : 0.004 | Train Acc : 90.718 \n",
      "Test Loss : 0.159 | Test Acc : 94.882\n",
      "\n",
      "[6 / 100]\n"
     ]
    },
    {
     "name": "stderr",
     "output_type": "stream",
     "text": [
      "100%|██████████| 7500/7500 [02:01<00:00, 61.56it/s]\n",
      "100%|██████████| 1875/1875 [00:15<00:00, 121.90it/s]\n"
     ]
    },
    {
     "name": "stdout",
     "output_type": "stream",
     "text": [
      "Train Loss : 0.004 | Train Acc : 92.014 \n",
      "Test Loss : 0.155 | Test Acc : 94.868\n",
      "\n",
      "[7 / 100]\n"
     ]
    },
    {
     "name": "stderr",
     "output_type": "stream",
     "text": [
      "100%|██████████| 7500/7500 [02:06<00:00, 59.40it/s]\n",
      "100%|██████████| 1875/1875 [00:15<00:00, 123.52it/s]\n"
     ]
    },
    {
     "name": "stdout",
     "output_type": "stream",
     "text": [
      "Train Loss : 0.003 | Train Acc : 93.074 \n",
      "Test Loss : 0.158 | Test Acc : 94.753\n",
      "\n",
      "[8 / 100]\n"
     ]
    },
    {
     "name": "stderr",
     "output_type": "stream",
     "text": [
      "100%|██████████| 7500/7500 [02:07<00:00, 58.78it/s]\n",
      "100%|██████████| 1875/1875 [00:15<00:00, 119.76it/s]\n"
     ]
    },
    {
     "name": "stdout",
     "output_type": "stream",
     "text": [
      "Train Loss : 0.003 | Train Acc : 93.790 \n",
      "Test Loss : 0.094 | Test Acc : 96.972\n",
      "\n",
      "[9 / 100]\n"
     ]
    },
    {
     "name": "stderr",
     "output_type": "stream",
     "text": [
      "100%|██████████| 7500/7500 [02:08<00:00, 58.45it/s]\n",
      "100%|██████████| 1875/1875 [00:15<00:00, 119.23it/s]\n"
     ]
    },
    {
     "name": "stdout",
     "output_type": "stream",
     "text": [
      "Train Loss : 0.003 | Train Acc : 94.391 \n",
      "Test Loss : 0.094 | Test Acc : 96.981\n",
      "\n",
      "[10 / 100]\n"
     ]
    },
    {
     "name": "stderr",
     "output_type": "stream",
     "text": [
      "100%|██████████| 7500/7500 [02:07<00:00, 58.78it/s]\n",
      "100%|██████████| 1875/1875 [00:15<00:00, 117.49it/s]\n"
     ]
    },
    {
     "name": "stdout",
     "output_type": "stream",
     "text": [
      "Train Loss : 0.003 | Train Acc : 94.861 \n",
      "Test Loss : 0.090 | Test Acc : 97.168\n",
      "\n",
      "[11 / 100]\n"
     ]
    },
    {
     "name": "stderr",
     "output_type": "stream",
     "text": [
      "100%|██████████| 7500/7500 [02:08<00:00, 58.53it/s]\n",
      "100%|██████████| 1875/1875 [00:15<00:00, 120.42it/s]\n"
     ]
    },
    {
     "name": "stdout",
     "output_type": "stream",
     "text": [
      "Train Loss : 0.002 | Train Acc : 95.282 \n",
      "Test Loss : 0.080 | Test Acc : 97.531\n",
      "\n",
      "[12 / 100]\n"
     ]
    },
    {
     "name": "stderr",
     "output_type": "stream",
     "text": [
      "100%|██████████| 7500/7500 [02:08<00:00, 58.53it/s]\n",
      "100%|██████████| 1875/1875 [00:15<00:00, 123.74it/s]\n"
     ]
    },
    {
     "name": "stdout",
     "output_type": "stream",
     "text": [
      "Train Loss : 0.002 | Train Acc : 95.639 \n",
      "Test Loss : 0.057 | Test Acc : 98.314\n",
      "\n",
      "[13 / 100]\n"
     ]
    },
    {
     "name": "stderr",
     "output_type": "stream",
     "text": [
      "100%|██████████| 7500/7500 [02:07<00:00, 58.68it/s]\n",
      "100%|██████████| 1875/1875 [00:14<00:00, 125.95it/s]\n"
     ]
    },
    {
     "name": "stdout",
     "output_type": "stream",
     "text": [
      "Train Loss : 0.002 | Train Acc : 96.034 \n",
      "Test Loss : 0.063 | Test Acc : 98.000\n",
      "\n",
      "[14 / 100]\n"
     ]
    },
    {
     "name": "stderr",
     "output_type": "stream",
     "text": [
      "100%|██████████| 7500/7500 [02:05<00:00, 59.79it/s]\n",
      "100%|██████████| 1875/1875 [00:15<00:00, 124.37it/s]\n"
     ]
    },
    {
     "name": "stdout",
     "output_type": "stream",
     "text": [
      "Train Loss : 0.002 | Train Acc : 96.255 \n",
      "Test Loss : 0.047 | Test Acc : 98.672\n",
      "\n",
      "[15 / 100]\n"
     ]
    },
    {
     "name": "stderr",
     "output_type": "stream",
     "text": [
      "100%|██████████| 7500/7500 [02:05<00:00, 59.87it/s]\n",
      "100%|██████████| 1875/1875 [00:14<00:00, 130.86it/s]\n"
     ]
    },
    {
     "name": "stdout",
     "output_type": "stream",
     "text": [
      "Train Loss : 0.002 | Train Acc : 96.486 \n",
      "Test Loss : 0.045 | Test Acc : 98.670\n",
      "\n",
      "[16 / 100]\n"
     ]
    },
    {
     "name": "stderr",
     "output_type": "stream",
     "text": [
      "100%|██████████| 7500/7500 [02:04<00:00, 60.09it/s]\n",
      "100%|██████████| 1875/1875 [00:14<00:00, 126.02it/s]\n"
     ]
    },
    {
     "name": "stdout",
     "output_type": "stream",
     "text": [
      "Train Loss : 0.002 | Train Acc : 96.725 \n",
      "Test Loss : 0.101 | Test Acc : 97.036\n",
      "\n",
      "[17 / 100]\n"
     ]
    },
    {
     "name": "stderr",
     "output_type": "stream",
     "text": [
      "100%|██████████| 7500/7500 [02:04<00:00, 60.42it/s]\n",
      "100%|██████████| 1875/1875 [00:13<00:00, 136.32it/s]\n"
     ]
    },
    {
     "name": "stdout",
     "output_type": "stream",
     "text": [
      "Train Loss : 0.002 | Train Acc : 96.916 \n",
      "Test Loss : 0.056 | Test Acc : 98.436\n",
      "\n",
      "[18 / 100]\n"
     ]
    },
    {
     "name": "stderr",
     "output_type": "stream",
     "text": [
      "100%|██████████| 7500/7500 [02:02<00:00, 61.47it/s]\n",
      "100%|██████████| 1875/1875 [00:14<00:00, 126.78it/s]\n"
     ]
    },
    {
     "name": "stdout",
     "output_type": "stream",
     "text": [
      "Train Loss : 0.002 | Train Acc : 96.991 \n",
      "Test Loss : 0.032 | Test Acc : 99.162\n",
      "\n",
      "[19 / 100]\n"
     ]
    },
    {
     "name": "stderr",
     "output_type": "stream",
     "text": [
      "100%|██████████| 7500/7500 [02:03<00:00, 60.81it/s]\n",
      "100%|██████████| 1875/1875 [00:14<00:00, 132.65it/s]\n"
     ]
    },
    {
     "name": "stdout",
     "output_type": "stream",
     "text": [
      "Train Loss : 0.001 | Train Acc : 97.195 \n",
      "Test Loss : 0.037 | Test Acc : 99.056\n",
      "\n",
      "[20 / 100]\n"
     ]
    },
    {
     "name": "stderr",
     "output_type": "stream",
     "text": [
      "100%|██████████| 7500/7500 [02:01<00:00, 61.62it/s]\n",
      "100%|██████████| 1875/1875 [00:14<00:00, 128.46it/s]\n"
     ]
    },
    {
     "name": "stdout",
     "output_type": "stream",
     "text": [
      "Train Loss : 0.001 | Train Acc : 97.335 \n",
      "Test Loss : 0.031 | Test Acc : 99.266\n",
      "\n",
      "[21 / 100]\n"
     ]
    },
    {
     "name": "stderr",
     "output_type": "stream",
     "text": [
      "100%|██████████| 7500/7500 [02:02<00:00, 61.04it/s]\n",
      "100%|██████████| 1875/1875 [00:15<00:00, 124.43it/s]\n"
     ]
    },
    {
     "name": "stdout",
     "output_type": "stream",
     "text": [
      "Train Loss : 0.001 | Train Acc : 97.426 \n",
      "Test Loss : 0.031 | Test Acc : 99.204\n",
      "\n",
      "[22 / 100]\n"
     ]
    },
    {
     "name": "stderr",
     "output_type": "stream",
     "text": [
      "100%|██████████| 7500/7500 [02:03<00:00, 60.61it/s]\n",
      "100%|██████████| 1875/1875 [00:14<00:00, 130.01it/s]\n"
     ]
    },
    {
     "name": "stdout",
     "output_type": "stream",
     "text": [
      "Train Loss : 0.001 | Train Acc : 97.509 \n",
      "Test Loss : 0.026 | Test Acc : 99.405\n",
      "\n",
      "[23 / 100]\n"
     ]
    },
    {
     "name": "stderr",
     "output_type": "stream",
     "text": [
      "100%|██████████| 7500/7500 [02:01<00:00, 61.53it/s]\n",
      "100%|██████████| 1875/1875 [00:15<00:00, 123.02it/s]\n"
     ]
    },
    {
     "name": "stdout",
     "output_type": "stream",
     "text": [
      "Train Loss : 0.001 | Train Acc : 97.573 \n",
      "Test Loss : 0.048 | Test Acc : 98.702\n",
      "\n",
      "[24 / 100]\n"
     ]
    },
    {
     "name": "stderr",
     "output_type": "stream",
     "text": [
      "100%|██████████| 7500/7500 [02:02<00:00, 61.24it/s]\n",
      "100%|██████████| 1875/1875 [00:14<00:00, 126.74it/s]\n"
     ]
    },
    {
     "name": "stdout",
     "output_type": "stream",
     "text": [
      "Train Loss : 0.001 | Train Acc : 97.713 \n",
      "Test Loss : 0.031 | Test Acc : 99.249\n",
      "\n",
      "[25 / 100]\n"
     ]
    },
    {
     "name": "stderr",
     "output_type": "stream",
     "text": [
      " 40%|███▉      | 2987/7500 [00:48<01:12, 61.97it/s]"
     ]
    }
   ],
   "source": [
    "best_score = 0.0\n",
    "for epoch in range(1, EPOCHS + 1):\n",
    "  # scheduler.step()\n",
    "  \n",
    "  print(f'[{epoch} / {EPOCHS}]')\n",
    "  train_loss, train_acc = train(model, train_loader, optimizer)\n",
    "  vali_loss, vali_acc   = evaluate(model, valid_loader)\n",
    "\n",
    "  if best_score < vali_acc:\n",
    "    best_score = vali_acc\n",
    "    torch.save(model.state_dict(), './best_model.pth')\n",
    "\n",
    "  print(f'Train Loss : {train_loss:.3f} | Train Acc : {train_acc:.3f} \\nTest Loss : {vali_loss:.3f} | Test Acc : {vali_acc:.3f}\\n')"
   ]
  },
  {
   "cell_type": "code",
   "execution_count": 70,
   "id": "2e039328-00f1-433b-9719-f0d87ee51b8b",
   "metadata": {},
   "outputs": [
    {
     "name": "stderr",
     "output_type": "stream",
     "text": [
      "100%|██████████| 40000/40000 [25:43<00:00, 25.91it/s]  \n"
     ]
    }
   ],
   "source": [
    "test_images = []\n",
    "for voxel in tqdm(test_points):\n",
    "    image = decomposition(voxel, pca)\n",
    "    test_images.append(image)"
   ]
  },
  {
   "cell_type": "code",
   "execution_count": 71,
   "id": "36d45a60-4456-4993-920f-ce47b69bce87",
   "metadata": {},
   "outputs": [],
   "source": [
    "class FlattenDataset(Dataset):\n",
    "    \n",
    "    def __init__(self, images):\n",
    "        \n",
    "        self.images = images\n",
    "        self.transforms = transforms.Compose([\n",
    "                                                transforms.ToPILImage(),\n",
    "                                                transforms.Resize((32, 32)),\n",
    "                                                transforms.ToTensor()\n",
    "                                            ])\n",
    "        \n",
    "        self.num_datas = self.images.shape[0]\n",
    "\n",
    "        \n",
    "    def __getitem__(self, index):\n",
    "        \n",
    "        image     = self.images[index]\n",
    "        image     = self.transforms(image)\n",
    "        \n",
    "        return image\n",
    "    \n",
    "    def __len__(self):\n",
    "        return self.num_datas"
   ]
  },
  {
   "cell_type": "code",
   "execution_count": 72,
   "id": "9439c346-b684-4d7b-8f26-2d93f060406a",
   "metadata": {},
   "outputs": [
    {
     "data": {
      "text/plain": [
       "<matplotlib.image.AxesImage at 0x7f6ce92cb880>"
      ]
     },
     "execution_count": 72,
     "metadata": {},
     "output_type": "execute_result"
    },
    {
     "data": {
      "image/png": "[encoded data removed]",
      "text/plain": [
       "<Figure size 432x288 with 1 Axes>"
      ]
     },
     "metadata": {
      "needs_background": "light"
     },
     "output_type": "display_data"
    }
   ],
   "source": [
    "test_images = np.array(test_images)\n",
    "test_dataset = FlattenDataset(test_images)\n",
    "test_loader  = DataLoader(test_dataset, batch_size = BATCH_SIZE)\n",
    "\n",
    "test_iter    = iter(test_loader)\n",
    "images       = next(test_iter)\n",
    "\n",
    "plt.imshow(np.transpose(images[0], (1, 2, 0)))"
   ]
  },
  {
   "cell_type": "code",
   "execution_count": 73,
   "id": "817dd46c-8b6c-4f9a-a926-a44564cd1251",
   "metadata": {},
   "outputs": [],
   "source": [
    "def predict(model, test_loader, device):\n",
    "    model.to(device)\n",
    "    model.eval()\n",
    "    model_preds = []\n",
    "    with torch.no_grad():\n",
    "        for data in tqdm(iter(test_loader)):\n",
    "            data = data.float().to(device)\n",
    "            \n",
    "            batch_pred = model(data)\n",
    "            \n",
    "            model_preds += batch_pred.argmax(1).detach().cpu().numpy().tolist()\n",
    "    \n",
    "    return model_preds"
   ]
  },
  {
   "cell_type": "code",
   "execution_count": 74,
   "id": "137dd66c-3646-4cad-889e-97825c5943a6",
   "metadata": {},
   "outputs": [
    {
     "name": "stderr",
     "output_type": "stream",
     "text": [
      "100%|██████████| 625/625 [00:05<00:00, 104.50it/s]\n"
     ]
    }
   ],
   "source": [
    "preds = predict(model, test_loader, device)"
   ]
  },
  {
   "cell_type": "code",
   "execution_count": 75,
   "id": "d73620b9-a33e-4089-ab9a-e887b6128b3c",
   "metadata": {},
   "outputs": [],
   "source": [
    "test_df['label'] = preds\n",
    "test_df.to_csv('submit/submit.csv', index=False)"
   ]
  },
  {
   "cell_type": "code",
   "execution_count": null,
   "id": "e0476268-7957-4669-a341-a405ac2cf2ef",
   "metadata": {},
   "outputs": [],
   "source": []
  }
 ],
 "metadata": {
  "kernelspec": {
   "display_name": "bio",
   "language": "python",
   "name": "bio"
  },
  "language_info": {
   "codemirror_mode": {
    "name": "ipython",
    "version": 3
   },
   "file_extension": ".py",
   "mimetype": "text/x-python",
   "name": "python",
   "nbconvert_exporter": "python",
   "pygments_lexer": "ipython3",
   "version": "3.9.12"
  }
 },
 "nbformat": 4,
 "nbformat_minor": 5
}
