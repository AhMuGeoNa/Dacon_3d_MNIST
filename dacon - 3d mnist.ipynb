{
 "cells": [
  {
   "cell_type": "markdown",
   "id": "37e8a764-3f7d-450a-adec-a821e5e26039",
   "metadata": {},
   "source": [
    "# **0. 참고자료**\n",
    "## **0-1. 도서**    \n",
    "\n",
    "## **0-2. 논문, 학술지**\n",
    "\n",
    "## **0-3. 웹 사이트**\n",
    "- DACON 코드공유 - 데이터 확인과 회전에 의한 데이터 증강 | [[링크]](https://dacon.io/competitions/official/235951/codeshare/5906?page=1&dtype=recent)\n",
    "\n",
    "## **0-4. 데이터셋 출처**\n",
    "- DACON - 숫자 3D 이미지 분류 AI 경진대회 | [[데이터 셋 링크]](https://dacon.io/competitions/official/235951/data)\n",
    "\n",
    "# **1. 필요한 패키지 로딩**"
   ]
  },
  {
   "cell_type": "code",
   "execution_count": 1,
   "id": "d6518c16-fe28-430f-a7ec-653692870faf",
   "metadata": {},
   "outputs": [],
   "source": [
    "from sklearn.model_selection import train_test_split\n",
    "from collections import Counter\n",
    "import matplotlib.pyplot as plt\n",
    "from tqdm import tqdm\n",
    "import pandas as pd\n",
    "import numpy as np\n",
    "import h5py"
   ]
  },
  {
   "cell_type": "markdown",
   "id": "6eb2dbcb-29a5-4a3c-83e9-4d6dd81527b1",
   "metadata": {},
   "source": [
    "# **2. 데이터 확인해 보기**\n",
    "## **2-1. 데이터 로드**\n",
    "→ 학습 데이터 셋 csv에는 이미지 인덱스 : 라벨값으로 구성되어 있다.  \n",
    "→ 시험 데이터 셋 csv에는 이미지 인덱스 : 더미 라벨값으로 구성되어 있다."
   ]
  },
  {
   "cell_type": "code",
   "execution_count": 4,
   "id": "6b9ac2e3-f4fb-4f78-9385-830156826caa",
   "metadata": {},
   "outputs": [],
   "source": [
    "points  = h5py.File('../datasets/3D_MNIST/train.h5', 'r')\n",
    "dataset = pd.read_csv ('../datasets/3D_MNIST/train.csv')"
   ]
  },
  {
   "cell_type": "code",
   "execution_count": 7,
   "id": "9471593f-51c2-4735-b2e8-69769af27b5a",
   "metadata": {},
   "outputs": [],
   "source": [
    "test_df = pd.read_csv('../datasets/3D_MNIST/sample_submission.csv')\n",
    "test_points = h5py.File('../datasets/3D_MNIST/test.h5', 'r') "
   ]
  },
  {
   "cell_type": "markdown",
   "id": "78d39f8b-0761-4a1f-b530-65a0127bd477",
   "metadata": {},
   "source": [
    "- 데이터 처리 용이성을 위해 point들을 numpy array형으로 변환한다."
   ]
  },
  {
   "cell_type": "code",
   "execution_count": 8,
   "id": "65bcfc4d-36aa-4307-b04c-7b45cfee2b8c",
   "metadata": {},
   "outputs": [
    {
     "name": "stderr",
     "output_type": "stream",
     "text": [
      "100%|██████████| 50000/50000 [01:31<00:00, 543.49it/s]\n",
      "100%|██████████| 40000/40000 [01:54<00:00, 348.82it/s]\n"
     ]
    }
   ],
   "source": [
    "train_all = [np.array(points[str(idx)]) for idx in tqdm(dataset['ID'])]\n",
    "test_all = [np.array(test_points[str(i)]) for i in tqdm(test_df['ID'])]"
   ]
  },
  {
   "cell_type": "code",
   "execution_count": 9,
   "id": "57137ccf-220f-466b-a92c-23b4ec0cbc3d",
   "metadata": {},
   "outputs": [],
   "source": [
    "def show_voxel(points, idx = None):\n",
    "    fig = plt.figure(figsize = (5,5))\n",
    "    ax = fig.add_subplot(111, projection = '3d')\n",
    "\n",
    "    x = points[:, 0] if idx == None else points[idx][:, 0]\n",
    "    y = points[:, 1] if idx == None else points[idx][:, 1]\n",
    "    z = points[:, 2] if idx == None else points[idx][:, 2]\n",
    "\n",
    "    ax.view_init(0, 0)\n",
    "    ax.scatter(x, y, z)\n",
    "    \n",
    "def rotate(theta_x, theta_y, theta_z, dots):\n",
    "    mx = np.array([[1, 0, 0], [0, np.cos(theta_x), -np.sin(theta_x)], [0, np.sin(theta_x), np.cos(theta_x)]])\n",
    "    my = np.array([[np.cos(theta_y), 0, np.sin(theta_y)], [0, 1, 0], [-np.sin(theta_y), 0, np.cos(theta_y)]])\n",
    "    mz = np.array([[np.cos(theta_z), -np.sin(theta_z), 0], [np.sin(theta_z), np.cos(theta_z), 0], [0, 0, 1]])\n",
    "    \n",
    "    m = np.dot(np.dot(mx,my),mz)\n",
    "    dots = np.dot(dots, m.T)\n",
    "    \n",
    "    return dots\n"
   ]
  },
  {
   "cell_type": "code",
   "execution_count": 10,
   "id": "4bf43231-61ea-437b-8d8c-7fc96d9349b4",
   "metadata": {},
   "outputs": [
    {
     "data": {
      "image/png": "[encoded data removed]",
      "text/plain": [
       "<Figure size 360x360 with 1 Axes>"
      ]
     },
     "metadata": {
      "needs_background": "light"
     },
     "output_type": "display_data"
    },
    {
     "data": {
      "image/png": "[encoded data removed]",
      "text/plain": [
       "<Figure size 360x360 with 1 Axes>"
      ]
     },
     "metadata": {
      "needs_background": "light"
     },
     "output_type": "display_data"
    }
   ],
   "source": [
    "show_voxel(train_all, 9999)\n",
    "\n",
    "new_dot = rotate(-np.pi/4, 0, 0, train_all[9999])\n",
    "show_voxel(new_dot)"
   ]
  },
  {
   "cell_type": "code",
   "execution_count": 11,
   "id": "ac1a5644-c438-4198-ad3c-c7a096ebb47d",
   "metadata": {},
   "outputs": [],
   "source": [
    "from itertools import permutations\n",
    "import numpy as np"
   ]
  },
  {
   "cell_type": "code",
   "execution_count": 12,
   "id": "2386402b-90da-412a-89ed-dfbbd9a6c2d6",
   "metadata": {},
   "outputs": [],
   "source": [
    "angles = np.arange(np.pi / 3, 2*np.pi + np.pi / 3, np.pi / 3)\n",
    "permu = permutations(angles , r = 3)"
   ]
  },
  {
   "cell_type": "code",
   "execution_count": 13,
   "id": "1608f0b3-bf1f-4d5f-bf2f-5a75f3229fda",
   "metadata": {},
   "outputs": [
    {
     "name": "stderr",
     "output_type": "stream",
     "text": [
      "1000it [00:02, 359.50it/s]\n",
      "1000it [00:02, 368.58it/s]\n",
      "1000it [00:02, 368.87it/s]\n",
      "1000it [00:02, 363.69it/s]\n",
      "1000it [00:02, 368.41it/s]\n",
      "1000it [00:02, 367.91it/s]\n",
      "1000it [00:02, 366.57it/s]\n",
      "1000it [00:02, 360.19it/s]\n",
      "1000it [00:02, 369.37it/s]\n",
      "1000it [00:02, 370.75it/s]\n",
      "1000it [00:02, 363.18it/s]\n",
      "1000it [00:03, 327.79it/s]\n",
      "1000it [00:03, 285.79it/s]\n",
      "1000it [00:03, 316.16it/s]\n",
      "1000it [00:02, 345.28it/s]\n",
      "1000it [00:03, 299.32it/s]\n",
      "1000it [00:03, 322.41it/s]\n",
      "1000it [00:03, 317.49it/s]\n",
      "1000it [00:03, 314.81it/s]\n",
      "1000it [00:03, 315.19it/s]\n",
      "1000it [00:03, 326.63it/s]\n",
      "1000it [00:03, 317.70it/s]\n",
      "1000it [00:03, 328.04it/s]\n",
      "1000it [00:02, 362.93it/s]\n",
      "1000it [00:02, 361.08it/s]\n",
      "1000it [00:02, 363.13it/s]\n",
      "1000it [00:02, 365.76it/s]\n",
      "1000it [00:02, 364.45it/s]\n",
      "1000it [00:02, 365.68it/s]\n",
      "1000it [00:03, 328.62it/s]\n",
      "1000it [00:02, 342.42it/s]\n",
      "1000it [00:02, 350.56it/s]\n",
      "1000it [00:02, 349.43it/s]\n",
      "1000it [00:02, 368.13it/s]\n",
      "1000it [00:02, 345.35it/s]\n",
      "1000it [00:02, 338.22it/s]\n",
      "1000it [00:02, 344.03it/s]\n",
      "1000it [00:02, 343.95it/s]\n",
      "1000it [00:02, 341.52it/s]\n",
      "1000it [00:02, 347.09it/s]\n",
      "1000it [00:02, 346.20it/s]\n",
      "1000it [00:02, 348.19it/s]\n",
      "1000it [00:02, 342.67it/s]\n",
      "1000it [00:02, 342.24it/s]\n",
      "1000it [00:02, 338.58it/s]\n",
      "1000it [00:02, 345.05it/s]\n",
      "1000it [00:02, 345.96it/s]\n",
      "1000it [00:02, 347.98it/s]\n",
      "1000it [00:02, 351.16it/s]\n",
      "1000it [00:02, 348.14it/s]\n",
      "1000it [00:02, 348.39it/s]\n",
      "1000it [00:02, 341.98it/s]\n",
      "1000it [00:02, 341.47it/s]\n",
      "1000it [00:02, 345.84it/s]\n",
      "1000it [00:02, 342.29it/s]\n",
      "1000it [00:02, 349.24it/s]\n",
      "1000it [00:02, 347.09it/s]\n",
      "1000it [00:02, 345.44it/s]\n",
      "1000it [00:02, 346.84it/s]\n",
      "1000it [00:02, 347.32it/s]\n",
      "1000it [00:02, 344.67it/s]\n",
      "1000it [00:02, 334.14it/s]\n",
      "1000it [00:03, 327.69it/s]\n",
      "1000it [00:02, 348.32it/s]\n",
      "1000it [00:02, 347.62it/s]\n",
      "1000it [00:02, 337.30it/s]\n",
      "1000it [00:02, 341.10it/s]\n",
      "1000it [00:02, 349.04it/s]\n",
      "1000it [00:02, 349.15it/s]\n",
      "1000it [00:02, 343.26it/s]\n",
      "1000it [00:02, 336.92it/s]\n",
      "1000it [00:02, 352.78it/s]\n",
      "1000it [00:02, 350.74it/s]\n",
      "1000it [00:02, 349.72it/s]\n",
      "1000it [00:02, 347.55it/s]\n",
      "1000it [00:02, 346.03it/s]\n",
      "1000it [00:02, 364.25it/s]\n",
      "1000it [00:02, 386.13it/s]\n",
      "1000it [00:02, 388.79it/s]\n",
      "1000it [00:02, 386.33it/s]\n",
      "1000it [00:03, 320.19it/s]\n",
      "1000it [00:03, 296.67it/s]\n",
      "1000it [00:03, 325.70it/s]\n",
      "1000it [00:02, 347.36it/s]\n",
      "1000it [00:02, 340.72it/s]\n",
      "1000it [00:02, 339.87it/s]\n",
      "1000it [00:02, 347.31it/s]\n",
      "1000it [00:02, 342.60it/s]\n",
      "1000it [00:02, 336.95it/s]\n",
      "1000it [00:02, 362.41it/s]\n",
      "1000it [00:02, 370.12it/s]\n",
      "1000it [00:02, 371.07it/s]\n",
      "1000it [00:02, 371.85it/s]\n",
      "1000it [00:02, 369.90it/s]\n",
      "1000it [00:02, 375.93it/s]\n",
      "1000it [00:02, 355.19it/s]\n",
      "1000it [00:02, 371.34it/s]\n",
      "1000it [00:02, 379.18it/s]\n",
      "1000it [00:02, 377.70it/s]\n",
      "1000it [00:02, 376.90it/s]\n",
      "1000it [00:02, 363.96it/s]\n",
      "1000it [00:02, 365.54it/s]\n",
      "1000it [00:03, 317.42it/s]\n",
      "1000it [00:02, 350.72it/s]\n",
      "1000it [00:02, 369.55it/s]\n",
      "1000it [00:02, 385.21it/s]\n",
      "1000it [00:02, 386.11it/s]\n",
      "1000it [00:02, 390.40it/s]\n",
      "1000it [00:02, 382.57it/s]\n",
      "1000it [00:02, 389.38it/s]\n",
      "1000it [00:02, 386.92it/s]\n",
      "1000it [00:02, 388.94it/s]\n",
      "1000it [00:02, 388.30it/s]\n",
      "1000it [00:02, 378.13it/s]\n",
      "1000it [00:02, 390.79it/s]\n",
      "1000it [00:02, 357.66it/s]\n",
      "1000it [00:03, 321.56it/s]\n",
      "1000it [00:02, 350.91it/s]\n",
      "1000it [00:02, 359.31it/s]\n",
      "1000it [00:02, 358.26it/s]\n"
     ]
    }
   ],
   "source": [
    "train_voxels = []\n",
    "train_labels = []\n",
    "\n",
    "for x, y, z in permu:\n",
    "    for idx, lb in tqdm(zip(dataset['ID'][:1000], dataset['label'][:1000])):\n",
    "        voxel = np.array(points[str(idx)])\n",
    "        train_voxels.append(rotate(x, y, z, voxel))\n",
    "        train_labels.append(lb)"
   ]
  },
  {
   "cell_type": "code",
   "execution_count": 14,
   "id": "ae36ed6f-5aa2-4d78-8b12-d1357d56e9fa",
   "metadata": {},
   "outputs": [
    {
     "data": {
      "text/plain": [
       "Text(0.5, 0.92, '6')"
      ]
     },
     "execution_count": 14,
     "metadata": {},
     "output_type": "execute_result"
    },
    {
     "data": {
      "image/png": "[encoded data removed]",
      "text/plain": [
       "<Figure size 360x360 with 1 Axes>"
      ]
     },
     "metadata": {
      "needs_background": "light"
     },
     "output_type": "display_data"
    }
   ],
   "source": [
    "fig = plt.figure(figsize = (5,5))\n",
    "ax = fig.add_subplot(111, projection = '3d')\n",
    "\n",
    "x = train_voxels[119999][:, 0]\n",
    "y = train_voxels[119999][:, 1]\n",
    "z = train_voxels[119999][:, 2]\n",
    "\n",
    "ax.view_init(0, 0)\n",
    "ax.scatter(x, y, z)\n",
    "ax.set_title(train_labels[119999])"
   ]
  },
  {
   "cell_type": "code",
   "execution_count": 15,
   "id": "cf087638-d313-45ef-a36f-58295c37d246",
   "metadata": {},
   "outputs": [],
   "source": [
    "train_vox, valid_vox, train_lb, valid_lb = train_test_split(train_voxels, train_labels, shuffle = True, stratify = train_labels, test_size = 0.2, random_state = 42)"
   ]
  },
  {
   "cell_type": "code",
   "execution_count": 16,
   "id": "ced222ed-fe5b-48a1-a027-40abe1a7b71f",
   "metadata": {},
   "outputs": [
    {
     "data": {
      "image/png": "[encoded data removed]",
      "text/plain": [
       "<Figure size 432x288 with 1 Axes>"
      ]
     },
     "metadata": {
      "needs_background": "light"
     },
     "output_type": "display_data"
    }
   ],
   "source": [
    "def get_graph(data):\n",
    "    plt.bar(data.keys(), data.values())\n",
    "    plt.ylim(0, 12000)\n",
    "\n",
    "    for cnt, num in data.items():\n",
    "        plt.text(cnt, num, num,\n",
    "                fontsize = 11, color = 'black',\n",
    "                horizontalalignment = 'center',\n",
    "                verticalalignment   = 'bottom')\n",
    "\n",
    "get_graph(Counter(train_lb))"
   ]
  },
  {
   "cell_type": "code",
   "execution_count": 17,
   "id": "69616193-84f8-4dfa-8ca8-ecde84bd8148",
   "metadata": {},
   "outputs": [
    {
     "data": {
      "image/png": "[encoded data removed]",
      "text/plain": [
       "<Figure size 432x288 with 1 Axes>"
      ]
     },
     "metadata": {
      "needs_background": "light"
     },
     "output_type": "display_data"
    }
   ],
   "source": [
    "get_graph(Counter(valid_lb))"
   ]
  },
  {
   "cell_type": "code",
   "execution_count": 18,
   "id": "58301d14-d27c-4d88-8a41-908ad2374742",
   "metadata": {},
   "outputs": [
    {
     "name": "stderr",
     "output_type": "stream",
     "text": [
      "/opt/conda/envs/bio/lib/python3.9/site-packages/tqdm/auto.py:22: TqdmWarning: IProgress not found. Please update jupyter and ipywidgets. See https://ipywidgets.readthedocs.io/en/stable/user_install.html\n",
      "  from .autonotebook import tqdm as notebook_tqdm\n"
     ]
    }
   ],
   "source": [
    "from torch.utils.data import Dataset, DataLoader\n",
    "from sklearn.metrics import accuracy_score\n",
    "import torch.nn.functional as F\n",
    "import torch.optim as optim\n",
    "from tqdm import tqdm\n",
    "import torch.nn as nn\n",
    "import torch"
   ]
  },
  {
   "cell_type": "code",
   "execution_count": 19,
   "id": "e345f799-d0dd-4aee-8282-69dd6aff00e2",
   "metadata": {},
   "outputs": [],
   "source": [
    "EPOCHS        = 30\n",
    "BATCH_SIZE    = 16\n",
    "LEARNING_RATE = 1e-4"
   ]
  },
  {
   "cell_type": "code",
   "execution_count": 20,
   "id": "e25a1c33-eaf4-4a73-88dd-d0288b7990e4",
   "metadata": {},
   "outputs": [],
   "source": [
    "device = torch.device('cuda') if torch.cuda.is_available() else torch.device('cpu')"
   ]
  },
  {
   "cell_type": "code",
   "execution_count": 21,
   "id": "91298a14-f29c-49bf-9ac1-fd9a272cfb70",
   "metadata": {},
   "outputs": [],
   "source": [
    "class CustomDataset(Dataset):\n",
    "    def __init__(self, labels, points):\n",
    "        self.labels  = labels\n",
    "        self.points  = points\n",
    "        \n",
    "    def __getitem__(self, index):\n",
    "        \n",
    "        points = self.points[index][:]\n",
    "        image  = self.get_vector(points)\n",
    "    \n",
    "        if self.labels is not None:\n",
    "            label = self.labels[index]\n",
    "            return torch.Tensor(image).unsqueeze(0), label\n",
    "        \n",
    "        else:\n",
    "            return torch.Tensor(image).unsqueeze(0)\n",
    "        \n",
    "    def get_vector(self, points, x_y_z = [16, 16, 16]):\n",
    "        \n",
    "        xyzmin = np.min(points, axis = 0) - 0.001\n",
    "        xyzmax = np.max(points, axis = 0) + 0.001\n",
    "        \n",
    "        diff   = max(xyzmax-xyzmin) - (xyzmax - xyzmin)\n",
    "        xyzmin = xyzmin - diff / 2\n",
    "        xyzmax = xyzmax + diff / 2\n",
    "        \n",
    "        segments, shape = [], []\n",
    "        for i in range(3):\n",
    "            \n",
    "            if type(x_y_z[i]) is not int: raise TypeError(f'x_y_z[{i}] must be int')\n",
    "            \n",
    "            s, step = np.linspace(xyzmin[i], xyzmax[i], num = (x_y_z[i] + 1), retstep = True)\n",
    "            segments.append(s)\n",
    "            shape.append(step)\n",
    "        \n",
    "        n_voxels = x_y_z[0] * x_y_z[1] * x_y_z[2]\n",
    "        n_x      = x_y_z[0]\n",
    "        n_y      = x_y_z[1]\n",
    "        n_z      = x_y_z[2]\n",
    "        \n",
    "        structure = np.zeros((len(points), 4), dtype = int)\n",
    "        structure[:,0] = np.searchsorted(segments[0], points[:,0]) - 1\n",
    "        structure[:,1] = np.searchsorted(segments[1], points[:,1]) - 1\n",
    "        structure[:,2] = np.searchsorted(segments[2], points[:,2]) - 1\n",
    "\n",
    "        # i = ((y * n_x) + x) + (z * (n_x * n_y))\n",
    "        structure[:,3] = ((structure[:,1] * n_x) + structure[:,0]) + (structure[:,2] * (n_x * n_y))\n",
    "        \n",
    "        vector = np.zeros(n_voxels)\n",
    "        count = np.bincount(structure[:,3])\n",
    "        vector[:len(count)] = count\n",
    "\n",
    "        vector = vector.reshape(n_z, n_y, n_x)\n",
    "        return vector\n",
    "\n",
    "    def __len__(self):\n",
    "        return len(self.points)"
   ]
  },
  {
   "cell_type": "code",
   "execution_count": 22,
   "id": "5b40f0c4-6cb0-410a-8bca-52c0d7704d2b",
   "metadata": {},
   "outputs": [],
   "source": [
    "train_dataset = CustomDataset(train_lb, train_vox)\n",
    "train_loader = DataLoader(train_dataset, batch_size = BATCH_SIZE, shuffle=True, num_workers=0)\n",
    "\n",
    "val_dataset = CustomDataset(valid_lb, valid_vox)\n",
    "val_loader = DataLoader(val_dataset, batch_size=BATCH_SIZE, shuffle=False, num_workers=0)"
   ]
  },
  {
   "cell_type": "code",
   "execution_count": 23,
   "id": "cee2d6d7-7d58-41cb-9ca6-71d49470194e",
   "metadata": {},
   "outputs": [
    {
     "data": {
      "text/plain": [
       "torch.Size([16, 1, 16, 16, 16])"
      ]
     },
     "execution_count": 23,
     "metadata": {},
     "output_type": "execute_result"
    }
   ],
   "source": [
    "train_sample = iter(train_loader)\n",
    "image, _     = next(train_sample)\n",
    "\n",
    "image.size()"
   ]
  },
  {
   "cell_type": "code",
   "execution_count": 24,
   "id": "7512794f-a980-4ec9-97d1-ddcee9f5c994",
   "metadata": {},
   "outputs": [],
   "source": [
    "class BaseModel(nn.Module):\n",
    "    def __init__(self):\n",
    "        super(BaseModel,self).__init__()\n",
    "        self.feature_extract = nn.Sequential(\n",
    "            nn.Conv3d(1,8,3),\n",
    "            nn.ReLU(),\n",
    "            nn.BatchNorm3d(8),\n",
    "            nn.Conv3d(8,32,3),\n",
    "            nn.ReLU(),\n",
    "            nn.BatchNorm3d(32),\n",
    "            nn.MaxPool3d(4),\n",
    "            nn.Conv3d(32,128,3),\n",
    "            nn.ReLU(),\n",
    "        )\n",
    "        self.classifier = nn.Sequential(\n",
    "                                nn.Linear(128, 64),\n",
    "                                nn.ReLU(),\n",
    "                                nn.Dropout(p = 0.3),\n",
    "                                nn.Linear(64, 32),\n",
    "                                nn.ReLU(),\n",
    "                                nn.Dropout(p = 0.3),\n",
    "                                nn.Linear(32, 10)\n",
    "                            )\n",
    "\n",
    "    def forward(self,x):\n",
    "        x = self.feature_extract(x)\n",
    "        x = x.view(x.size()[0],-1)\n",
    "        x = self.classifier(x)\n",
    "        return x"
   ]
  },
  {
   "cell_type": "code",
   "execution_count": 25,
   "id": "1f2d006b-bd89-4f6f-8eff-cc6aa14eb821",
   "metadata": {},
   "outputs": [],
   "source": [
    "class ResidualBlock(nn.Module):\n",
    "    \n",
    "    def __init__(self, in_planes, planes, stride = 1):\n",
    "        \n",
    "        super(ResidualBlock, self).__init__()\n",
    "        self.conv1 = nn.Conv3d(in_planes, planes, kernel_size = 3, stride = stride, padding = 1, bias = False)\n",
    "        self.bn1   = nn.BatchNorm3d(planes)\n",
    "        \n",
    "        self.conv2 = nn.Conv3d(planes, planes, kernel_size = 3, stride = 1, padding = 1, bias = False)\n",
    "        self.bn2   = nn.BatchNorm3d(planes)\n",
    "        \n",
    "        self.shortcut = nn.Sequential()\n",
    "        condition = [stride != 1, in_planes != planes]\n",
    "        \n",
    "        if any(condition):\n",
    "            self.shorcut = nn.Sequential(\n",
    "                            nn.Conv3d(in_planes, planes, kernel_size = 1, stride = stride,\n",
    "                                        bias = False),\n",
    "                            nn.BatchNorm3d(planes)\n",
    "                        )\n",
    "    \n",
    "    def forward(self, x):\n",
    "        out = F.relu(self.bn1(self.conv1(x)))\n",
    "        out = self.bn2(self.conv2(out))\n",
    "        \n",
    "        out += self.shortcut(x)\n",
    "        out = F.relu(out)\n",
    "        \n",
    "        return out"
   ]
  },
  {
   "cell_type": "code",
   "execution_count": 26,
   "id": "8aa3151a-57c7-4cc8-8fcc-b0081712b1f4",
   "metadata": {},
   "outputs": [],
   "source": [
    "class ResNetV(nn.Module):\n",
    "    \n",
    "    def __init__(self, num_classes = 10):\n",
    "        \n",
    "        super(ResNetV, self).__init__()\n",
    "        self.in_planes = 16\n",
    "        \n",
    "        self.conv1 = nn.Conv3d(1, 16, kernel_size = 3, stride = 1, padding = 1, bias = False)\n",
    "        self.bn1   = nn.BatchNorm3d(16)\n",
    "        \n",
    "        self.residual1 = self._make_block(16, 2, stride = 1)\n",
    "        self.residual2 = self._make_block(32, 2, stride = 2)\n",
    "        self.residual3 = self._make_block(64, 2, stride = 2)\n",
    "        self.linear    = nn.Linear(64, num_classes)\n",
    "       \n",
    "    \n",
    "    def _make_block(self, planes, num_blocks, stride):\n",
    "        \n",
    "        strides = [stride] + []*(num_blocks - 1)\n",
    "        layers  = []\n",
    "        \n",
    "        for stride in strides:\n",
    "            layers.append(ResidualBlock(self.in_planes, planes, stride))\n",
    "            self.in_planes = planes\n",
    "            \n",
    "        return nn.Sequential(*layers)\n",
    "    \n",
    "    def forward(self, x):\n",
    "        out = F.relu(self.bn1(self.conv1(x)))\n",
    "        out = self.residual1(out)\n",
    "        out = self.residual2(out)\n",
    "        out = self.residual3(out)\n",
    "        \n",
    "        out = F.avg_pool3d(out, 8)\n",
    "        out = out.view(out.size(0), -1)\n",
    "        out = self.linear(out)\n",
    "        \n",
    "        return out"
   ]
  },
  {
   "cell_type": "code",
   "execution_count": 27,
   "id": "f66e0be3-aa4b-4608-965b-e9a7bf46aa6f",
   "metadata": {},
   "outputs": [],
   "source": [
    "def train(model, optimizer, train_loader, val_loader, scheduler, device):\n",
    "    model.to(device)\n",
    "    criterion = nn.CrossEntropyLoss().to(device)\n",
    "    best_score = 0\n",
    "    for epoch in range(1, EPOCHS + 1):\n",
    "        model.train()\n",
    "        train_loss = []\n",
    "        for data, label in train_loader:\n",
    "            data, label = data.float().to(device), label.long().to(device)\n",
    "            optimizer.zero_grad()\n",
    "            \n",
    "            output = model(data)\n",
    "            loss = criterion(output, label)\n",
    "            \n",
    "            loss.backward()\n",
    "            optimizer.step()\n",
    "            \n",
    "            train_loss.append(loss.item())\n",
    "        \n",
    "        if scheduler is not None:\n",
    "            scheduler.step()\n",
    "            \n",
    "        val_loss, val_acc = validation(model, criterion, val_loader, device)\n",
    "        print(f'Epoch : [{epoch}] Train Loss : [{np.mean(train_loss)}] Val Loss : [{val_loss}] Val ACC : [{val_acc}]')\n",
    "        \n",
    "        if best_score < val_acc:\n",
    "            best_score = val_acc\n",
    "            torch.save(model.state_dict(), './best_model.pth')"
   ]
  },
  {
   "cell_type": "code",
   "execution_count": 28,
   "id": "b45184eb-a2a9-423f-bb8b-d95182afe9ae",
   "metadata": {},
   "outputs": [],
   "source": [
    "def validation(model, criterion, val_loader, device):\n",
    "    model.eval()\n",
    "    true_labels = []\n",
    "    model_preds = []\n",
    "    val_loss = []\n",
    "    with torch.no_grad():\n",
    "        for data, label in tqdm(iter(val_loader)):\n",
    "            data, label = data.float().to(device), label.long().to(device)\n",
    "            \n",
    "            model_pred = model(data)\n",
    "            loss = criterion(model_pred, label)\n",
    "            \n",
    "            val_loss.append(loss.item())\n",
    "            \n",
    "            model_preds += model_pred.argmax(1).detach().cpu().numpy().tolist()\n",
    "            true_labels += label.detach().cpu().numpy().tolist()\n",
    "    \n",
    "    return np.mean(val_loss), accuracy_score(true_labels, model_preds)"
   ]
  },
  {
   "cell_type": "code",
   "execution_count": 29,
   "id": "9084f713-02f1-48e8-b6e1-4234345970b9",
   "metadata": {},
   "outputs": [
    {
     "data": {
      "text/plain": [
       "ResNetV(\n",
       "  (conv1): Conv3d(1, 16, kernel_size=(3, 3, 3), stride=(1, 1, 1), padding=(1, 1, 1), bias=False)\n",
       "  (bn1): BatchNorm3d(16, eps=1e-05, momentum=0.1, affine=True, track_running_stats=True)\n",
       "  (residual1): Sequential(\n",
       "    (0): ResidualBlock(\n",
       "      (conv1): Conv3d(16, 16, kernel_size=(3, 3, 3), stride=(1, 1, 1), padding=(1, 1, 1), bias=False)\n",
       "      (bn1): BatchNorm3d(16, eps=1e-05, momentum=0.1, affine=True, track_running_stats=True)\n",
       "      (conv2): Conv3d(16, 16, kernel_size=(3, 3, 3), stride=(1, 1, 1), padding=(1, 1, 1), bias=False)\n",
       "      (bn2): BatchNorm3d(16, eps=1e-05, momentum=0.1, affine=True, track_running_stats=True)\n",
       "      (shortcut): Sequential()\n",
       "    )\n",
       "  )\n",
       "  (residual2): Sequential(\n",
       "    (0): ResidualBlock(\n",
       "      (conv1): Conv3d(16, 32, kernel_size=(3, 3, 3), stride=(2, 2, 2), padding=(1, 1, 1), bias=False)\n",
       "      (bn1): BatchNorm3d(32, eps=1e-05, momentum=0.1, affine=True, track_running_stats=True)\n",
       "      (conv2): Conv3d(32, 32, kernel_size=(3, 3, 3), stride=(1, 1, 1), padding=(1, 1, 1), bias=False)\n",
       "      (bn2): BatchNorm3d(32, eps=1e-05, momentum=0.1, affine=True, track_running_stats=True)\n",
       "      (shortcut): Sequential()\n",
       "      (shorcut): Sequential(\n",
       "        (0): Conv3d(16, 32, kernel_size=(1, 1, 1), stride=(2, 2, 2), bias=False)\n",
       "        (1): BatchNorm3d(32, eps=1e-05, momentum=0.1, affine=True, track_running_stats=True)\n",
       "      )\n",
       "    )\n",
       "  )\n",
       "  (residual3): Sequential(\n",
       "    (0): ResidualBlock(\n",
       "      (conv1): Conv3d(32, 64, kernel_size=(3, 3, 3), stride=(2, 2, 2), padding=(1, 1, 1), bias=False)\n",
       "      (bn1): BatchNorm3d(64, eps=1e-05, momentum=0.1, affine=True, track_running_stats=True)\n",
       "      (conv2): Conv3d(64, 64, kernel_size=(3, 3, 3), stride=(1, 1, 1), padding=(1, 1, 1), bias=False)\n",
       "      (bn2): BatchNorm3d(64, eps=1e-05, momentum=0.1, affine=True, track_running_stats=True)\n",
       "      (shortcut): Sequential()\n",
       "      (shorcut): Sequential(\n",
       "        (0): Conv3d(32, 64, kernel_size=(1, 1, 1), stride=(2, 2, 2), bias=False)\n",
       "        (1): BatchNorm3d(64, eps=1e-05, momentum=0.1, affine=True, track_running_stats=True)\n",
       "      )\n",
       "    )\n",
       "  )\n",
       "  (linear): Linear(in_features=64, out_features=10, bias=True)\n",
       ")"
      ]
     },
     "execution_count": 29,
     "metadata": {},
     "output_type": "execute_result"
    }
   ],
   "source": [
    "model = ResNetV()\n",
    "model"
   ]
  },
  {
   "cell_type": "code",
   "execution_count": null,
   "id": "cb7b874d-b983-47cf-87c1-b7899ecd1780",
   "metadata": {},
   "outputs": [],
   "source": [
    "model = BaseModel()\n",
    "model.eval()\n",
    "\n",
    "optimizer = torch.optim.Adam(params = model.parameters(), lr = LEARNING_RATE)\n",
    "scheduler = None\n",
    "\n",
    "train(model, optimizer, train_loader, val_loader, scheduler, device)"
   ]
  },
  {
   "cell_type": "code",
   "execution_count": 31,
   "id": "04a6d26e-abbf-4488-94f1-81272dc4d7f2",
   "metadata": {},
   "outputs": [
    {
     "ename": "TypeError",
     "evalue": "__init__() takes 3 positional arguments but 4 were given",
     "output_type": "error",
     "traceback": [
      "\u001b[0;31m---------------------------------------------------------------------------\u001b[0m",
      "\u001b[0;31mTypeError\u001b[0m                                 Traceback (most recent call last)",
      "Input \u001b[0;32mIn [31]\u001b[0m, in \u001b[0;36m<cell line: 1>\u001b[0;34m()\u001b[0m\n\u001b[0;32m----> 1\u001b[0m test_dataset \u001b[38;5;241m=\u001b[39m \u001b[43mCustomDataset\u001b[49m\u001b[43m(\u001b[49m\u001b[43mtest_df\u001b[49m\u001b[43m[\u001b[49m\u001b[38;5;124;43m'\u001b[39;49m\u001b[38;5;124;43mID\u001b[39;49m\u001b[38;5;124;43m'\u001b[39;49m\u001b[43m]\u001b[49m\u001b[38;5;241;43m.\u001b[39;49m\u001b[43mvalues\u001b[49m\u001b[43m,\u001b[49m\u001b[43m \u001b[49m\u001b[38;5;28;43;01mNone\u001b[39;49;00m\u001b[43m,\u001b[49m\u001b[43m \u001b[49m\u001b[43mtest_points\u001b[49m\u001b[43m)\u001b[49m\n\u001b[1;32m      2\u001b[0m test_loader \u001b[38;5;241m=\u001b[39m DataLoader(test_dataset, batch_size\u001b[38;5;241m=\u001b[39m\u001b[38;5;241m16\u001b[39m, shuffle\u001b[38;5;241m=\u001b[39m\u001b[38;5;28;01mFalse\u001b[39;00m, num_workers\u001b[38;5;241m=\u001b[39m\u001b[38;5;241m0\u001b[39m)\n",
      "\u001b[0;31mTypeError\u001b[0m: __init__() takes 3 positional arguments but 4 were given"
     ]
    }
   ],
   "source": [
    "test_dataset = CustomDataset(test_df['ID'].values, None, test_points)\n",
    "test_loader = DataLoader(test_dataset, batch_size=16, shuffle=False, num_workers=0)"
   ]
  },
  {
   "cell_type": "code",
   "execution_count": 46,
   "id": "bab0f9d2-b0ec-4b2c-b609-ef035a267a19",
   "metadata": {},
   "outputs": [
    {
     "data": {
      "text/plain": [
       "BaseModel(\n",
       "  (feature_extract): Sequential(\n",
       "    (0): Conv3d(1, 8, kernel_size=(3, 3, 3), stride=(1, 1, 1))\n",
       "    (1): ReLU()\n",
       "    (2): BatchNorm3d(8, eps=1e-05, momentum=0.1, affine=True, track_running_stats=True)\n",
       "    (3): Conv3d(8, 32, kernel_size=(3, 3, 3), stride=(1, 1, 1))\n",
       "    (4): ReLU()\n",
       "    (5): BatchNorm3d(32, eps=1e-05, momentum=0.1, affine=True, track_running_stats=True)\n",
       "    (6): MaxPool3d(kernel_size=4, stride=4, padding=0, dilation=1, ceil_mode=False)\n",
       "    (7): Conv3d(32, 128, kernel_size=(3, 3, 3), stride=(1, 1, 1))\n",
       "    (8): ReLU()\n",
       "  )\n",
       "  (classifier): Sequential(\n",
       "    (0): Linear(in_features=128, out_features=64, bias=True)\n",
       "    (1): ReLU()\n",
       "    (2): Dropout(p=0.3, inplace=False)\n",
       "    (3): Linear(in_features=64, out_features=32, bias=True)\n",
       "    (4): ReLU()\n",
       "    (5): Dropout(p=0.3, inplace=False)\n",
       "    (6): Linear(in_features=32, out_features=10, bias=True)\n",
       "  )\n",
       ")"
      ]
     },
     "execution_count": 46,
     "metadata": {},
     "output_type": "execute_result"
    }
   ],
   "source": [
    "checkpoint = torch.load('./best_model.pth')\n",
    "model = BaseModel()\n",
    "model.load_state_dict(checkpoint)\n",
    "model.eval()"
   ]
  },
  {
   "cell_type": "code",
   "execution_count": 47,
   "id": "3317de73-94cd-465e-9055-dd0f7982c2b0",
   "metadata": {},
   "outputs": [],
   "source": [
    "def predict(model, test_loader, device):\n",
    "    model.to(device)\n",
    "    model.eval()\n",
    "    model_preds = []\n",
    "    with torch.no_grad():\n",
    "        for data in tqdm(iter(test_loader)):\n",
    "            data = data.float().to(device)\n",
    "            \n",
    "            batch_pred = model(data)\n",
    "            \n",
    "            model_preds += batch_pred.argmax(1).detach().cpu().numpy().tolist()\n",
    "    \n",
    "    return model_preds"
   ]
  },
  {
   "cell_type": "code",
   "execution_count": 48,
   "id": "f63372fd-a0e9-4029-ae1c-20f34cbb0c7d",
   "metadata": {},
   "outputs": [
    {
     "name": "stderr",
     "output_type": "stream",
     "text": [
      "100%|██████████| 2500/2500 [03:16<00:00, 12.73it/s]\n"
     ]
    }
   ],
   "source": [
    "preds = predict(model, test_loader, device)"
   ]
  },
  {
   "cell_type": "code",
   "execution_count": 49,
   "id": "ab35e910-5abc-4f19-9b3c-cb929169d832",
   "metadata": {},
   "outputs": [],
   "source": [
    "test_df['label'] = preds\n",
    "test_df.to_csv('submit/submit.csv', index=False)"
   ]
  },
  {
   "cell_type": "code",
   "execution_count": null,
   "id": "50270202-5b8c-4642-890b-1c21d1d40307",
   "metadata": {},
   "outputs": [],
   "source": []
  },
  {
   "cell_type": "code",
   "execution_count": null,
   "id": "3407eb95-6349-4436-b316-9c19acbf8867",
   "metadata": {},
   "outputs": [],
   "source": []
  }
 ],
 "metadata": {
  "kernelspec": {
   "display_name": "bio",
   "language": "python",
   "name": "bio"
  },
  "language_info": {
   "codemirror_mode": {
    "name": "ipython",
    "version": 3
   },
   "file_extension": ".py",
   "mimetype": "text/x-python",
   "name": "python",
   "nbconvert_exporter": "python",
   "pygments_lexer": "ipython3",
   "version": "3.9.12"
  }
 },
 "nbformat": 4,
 "nbformat_minor": 5
}
