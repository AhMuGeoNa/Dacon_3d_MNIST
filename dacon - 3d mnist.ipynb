{
 "cells": [
  {
   "cell_type": "code",
   "execution_count": 2,
   "id": "89d6f1fd-5ba1-41a9-b9e2-0385be6251a0",
   "metadata": {},
   "outputs": [],
   "source": [
    "from sklearn.model_selection import train_test_split\n",
    "from collections import Counter\n",
    "import matplotlib.pyplot as plt\n",
    "import pandas as pd\n",
    "import numpy as np\n",
    "import h5py"
   ]
  },
  {
   "cell_type": "code",
   "execution_count": 3,
   "id": "6b9ac2e3-f4fb-4f78-9385-830156826caa",
   "metadata": {},
   "outputs": [],
   "source": [
    "points  = h5py.File('datasets/train.h5', 'r')\n",
    "dataset = pd.read_csv('datasets/train.csv')"
   ]
  },
  {
   "cell_type": "code",
   "execution_count": 10,
   "id": "cf087638-d313-45ef-a36f-58295c37d246",
   "metadata": {},
   "outputs": [],
   "source": [
    "train_df = dataset.iloc[:int(len(dataset)*0.8)]\n",
    "val_df = dataset.iloc[int(len(dataset)*0.8):]\n",
    "\n",
    "train_lb = train_df['label']\n",
    "valid_lb = val_df['label']"
   ]
  },
  {
   "cell_type": "code",
   "execution_count": 11,
   "id": "ced222ed-fe5b-48a1-a027-40abe1a7b71f",
   "metadata": {},
   "outputs": [
    {
     "data": {
      "image/png": "[encoded data removed]",
      "text/plain": [
       "<Figure size 432x288 with 1 Axes>"
      ]
     },
     "metadata": {
      "needs_background": "light"
     },
     "output_type": "display_data"
    }
   ],
   "source": [
    "def get_graph(data):\n",
    "    plt.bar(data.keys(), data.values())\n",
    "    plt.ylim(0, 5000)\n",
    "\n",
    "    for cnt, num in data.items():\n",
    "        plt.text(cnt, num, num,\n",
    "                fontsize = 11, color = 'black',\n",
    "                horizontalalignment = 'center',\n",
    "                verticalalignment   = 'bottom')\n",
    "        \n",
    "get_graph(Counter(train_lb))"
   ]
  },
  {
   "cell_type": "code",
   "execution_count": 12,
   "id": "69616193-84f8-4dfa-8ca8-ecde84bd8148",
   "metadata": {},
   "outputs": [
    {
     "data": {
      "image/png": "[encoded data removed]",
      "text/plain": [
       "<Figure size 432x288 with 1 Axes>"
      ]
     },
     "metadata": {
      "needs_background": "light"
     },
     "output_type": "display_data"
    }
   ],
   "source": [
    "get_graph(Counter(valid_lb))"
   ]
  },
  {
   "cell_type": "code",
   "execution_count": 13,
   "id": "58301d14-d27c-4d88-8a41-908ad2374742",
   "metadata": {},
   "outputs": [
    {
     "name": "stderr",
     "output_type": "stream",
     "text": [
      "/opt/conda/envs/bio/lib/python3.9/site-packages/tqdm/auto.py:22: TqdmWarning: IProgress not found. Please update jupyter and ipywidgets. See https://ipywidgets.readthedocs.io/en/stable/user_install.html\n",
      "  from .autonotebook import tqdm as notebook_tqdm\n"
     ]
    }
   ],
   "source": [
    "from torch.utils.data import Dataset, DataLoader\n",
    "from sklearn.metrics import accuracy_score\n",
    "import torch.nn.functional as F\n",
    "import torch.optim as optim\n",
    "from tqdm import tqdm\n",
    "import torch.nn as nn\n",
    "import torch"
   ]
  },
  {
   "cell_type": "code",
   "execution_count": 40,
   "id": "e345f799-d0dd-4aee-8282-69dd6aff00e2",
   "metadata": {},
   "outputs": [],
   "source": [
    "EPOCHS        = 30\n",
    "BATCH_SIZE    = 16\n",
    "LEARNING_RATE = 1e-4"
   ]
  },
  {
   "cell_type": "code",
   "execution_count": 14,
   "id": "e25a1c33-eaf4-4a73-88dd-d0288b7990e4",
   "metadata": {},
   "outputs": [],
   "source": [
    "device = torch.device('cuda') if torch.cuda.is_available() else torch.device('cpu')"
   ]
  },
  {
   "cell_type": "code",
   "execution_count": 15,
   "id": "91298a14-f29c-49bf-9ac1-fd9a272cfb70",
   "metadata": {},
   "outputs": [],
   "source": [
    "class CustomDataset(Dataset):\n",
    "    def __init__(self, indexes, labels, points):\n",
    "        self.indexes = indexes\n",
    "        self.labels  = labels\n",
    "        self.points  = points\n",
    "        \n",
    "    def __getitem__(self, index):\n",
    "        \n",
    "        idx    = self.indexes[index]\n",
    "        points = self.points[str(idx)][:]\n",
    "        image  = self.get_vector(points)\n",
    "    \n",
    "        if self.labels is not None:\n",
    "            label = dataset['label'][idx]\n",
    "            return torch.Tensor(image).unsqueeze(0), label\n",
    "        \n",
    "        else:\n",
    "            return torch.Tensor(image).unsqueeze(0)\n",
    "        \n",
    "    def get_vector(self, points, x_y_z = [16, 16, 16]):\n",
    "        \n",
    "        xyzmin = np.min(points, axis = 0) - 0.001\n",
    "        xyzmax = np.max(points, axis = 0) + 0.001\n",
    "        \n",
    "        diff   = max(xyzmax-xyzmin) - (xyzmax - xyzmin)\n",
    "        xyzmin = xyzmin - diff / 2\n",
    "        xyzmax = xyzmax + diff / 2\n",
    "        \n",
    "        segments, shape = [], []\n",
    "        for i in range(3):\n",
    "            \n",
    "            if type(x_y_z[i]) is not int: raise TypeError(f'x_y_z[{i}] must be int')\n",
    "            \n",
    "            s, step = np.linspace(xyzmin[i], xyzmax[i], num = (x_y_z[i] + 1), retstep = True)\n",
    "            segments.append(s)\n",
    "            shape.append(step)\n",
    "        \n",
    "        n_voxels = x_y_z[0] * x_y_z[1] * x_y_z[2]\n",
    "        n_x      = x_y_z[0]\n",
    "        n_y      = x_y_z[1]\n",
    "        n_z      = x_y_z[2]\n",
    "        \n",
    "        structure = np.zeros((len(points), 4), dtype = int)\n",
    "        structure[:,0] = np.searchsorted(segments[0], points[:,0]) - 1\n",
    "        structure[:,1] = np.searchsorted(segments[1], points[:,1]) - 1\n",
    "        structure[:,2] = np.searchsorted(segments[2], points[:,2]) - 1\n",
    "\n",
    "        # i = ((y * n_x) + x) + (z * (n_x * n_y))\n",
    "        structure[:,3] = ((structure[:,1] * n_x) + structure[:,0]) + (structure[:,2] * (n_x * n_y))\n",
    "        \n",
    "        vector = np.zeros(n_voxels)\n",
    "        count = np.bincount(structure[:,3])\n",
    "        vector[:len(count)] = count\n",
    "\n",
    "        vector = vector.reshape(n_z, n_y, n_x)\n",
    "        return vector\n",
    "\n",
    "    def __len__(self):\n",
    "        return len(self.indexes)"
   ]
  },
  {
   "cell_type": "code",
   "execution_count": 41,
   "id": "5b40f0c4-6cb0-410a-8bca-52c0d7704d2b",
   "metadata": {},
   "outputs": [],
   "source": [
    "train_dataset = CustomDataset(train_df['ID'].values, train_df['label'].values, points)\n",
    "train_loader = DataLoader(train_dataset, batch_size = BATCH_SIZE, shuffle=True, num_workers=0)\n",
    "\n",
    "val_dataset = CustomDataset(val_df['ID'].values, val_df['label'].values, points)\n",
    "val_loader = DataLoader(val_dataset, batch_size=BATCH_SIZE, shuffle=False, num_workers=0)"
   ]
  },
  {
   "cell_type": "code",
   "execution_count": 17,
   "id": "7512794f-a980-4ec9-97d1-ddcee9f5c994",
   "metadata": {},
   "outputs": [],
   "source": [
    "class BaseModel(nn.Module):\n",
    "    def __init__(self):\n",
    "        super(BaseModel,self).__init__()\n",
    "        self.feature_extract = nn.Sequential(\n",
    "            nn.Conv3d(1,8,3),\n",
    "            nn.ReLU(),\n",
    "            nn.BatchNorm3d(8),\n",
    "            nn.Conv3d(8,32,3),\n",
    "            nn.ReLU(),\n",
    "            nn.BatchNorm3d(32),\n",
    "            nn.MaxPool3d(4),\n",
    "            nn.Conv3d(32,128,3),\n",
    "            nn.ReLU(),\n",
    "        )\n",
    "        self.classifier = nn.Sequential(\n",
    "                                nn.Linear(128, 64),\n",
    "                                nn.ReLU(),\n",
    "                                nn.Dropout(p = 0.3),\n",
    "                                nn.Linear(64, 32),\n",
    "                                nn.ReLU(),\n",
    "                                nn.Dropout(p = 0.3),\n",
    "                                nn.Linear(32, 10)\n",
    "                            )\n",
    "\n",
    "    def forward(self,x):\n",
    "        x = self.feature_extract(x)\n",
    "        x = x.view(x.size()[0],-1)\n",
    "        x = self.classifier(x)\n",
    "        return x"
   ]
  },
  {
   "cell_type": "code",
   "execution_count": 42,
   "id": "f66e0be3-aa4b-4608-965b-e9a7bf46aa6f",
   "metadata": {},
   "outputs": [],
   "source": [
    "def train(model, optimizer, train_loader, val_loader, scheduler, device):\n",
    "    model.to(device)\n",
    "    criterion = nn.CrossEntropyLoss().to(device)\n",
    "    best_score = 0\n",
    "    for epoch in range(1, EPOCHS + 1):\n",
    "        model.train()\n",
    "        train_loss = []\n",
    "        for data, label in train_loader:\n",
    "            data, label = data.float().to(device), label.long().to(device)\n",
    "            optimizer.zero_grad()\n",
    "            \n",
    "            output = model(data)\n",
    "            loss = criterion(output, label)\n",
    "            \n",
    "            loss.backward()\n",
    "            optimizer.step()\n",
    "            \n",
    "            train_loss.append(loss.item())\n",
    "        \n",
    "        if scheduler is not None:\n",
    "            scheduler.step()\n",
    "            \n",
    "        val_loss, val_acc = validation(model, criterion, val_loader, device)\n",
    "        print(f'Epoch : [{epoch}] Train Loss : [{np.mean(train_loss)}] Val Loss : [{val_loss}] Val ACC : [{val_acc}]')\n",
    "        \n",
    "        if best_score < val_acc:\n",
    "            best_score = val_acc\n",
    "            torch.save(model.state_dict(), './best_model.pth')"
   ]
  },
  {
   "cell_type": "code",
   "execution_count": 19,
   "id": "b45184eb-a2a9-423f-bb8b-d95182afe9ae",
   "metadata": {},
   "outputs": [],
   "source": [
    "def validation(model, criterion, val_loader, device):\n",
    "    model.eval()\n",
    "    true_labels = []\n",
    "    model_preds = []\n",
    "    val_loss = []\n",
    "    with torch.no_grad():\n",
    "        for data, label in tqdm(iter(val_loader)):\n",
    "            data, label = data.float().to(device), label.long().to(device)\n",
    "            \n",
    "            model_pred = model(data)\n",
    "            loss = criterion(model_pred, label)\n",
    "            \n",
    "            val_loss.append(loss.item())\n",
    "            \n",
    "            model_preds += model_pred.argmax(1).detach().cpu().numpy().tolist()\n",
    "            true_labels += label.detach().cpu().numpy().tolist()\n",
    "    \n",
    "    return np.mean(val_loss), accuracy_score(true_labels, model_preds)"
   ]
  },
  {
   "cell_type": "code",
   "execution_count": 43,
   "id": "cb7b874d-b983-47cf-87c1-b7899ecd1780",
   "metadata": {},
   "outputs": [
    {
     "name": "stderr",
     "output_type": "stream",
     "text": [
      "100%|██████████| 625/625 [00:38<00:00, 16.15it/s]\n"
     ]
    },
    {
     "name": "stdout",
     "output_type": "stream",
     "text": [
      "Epoch : [1] Train Loss : [0.9742746017754078] Val Loss : [0.2223844178944826] Val ACC : [0.9324]\n"
     ]
    },
    {
     "name": "stderr",
     "output_type": "stream",
     "text": [
      "100%|██████████| 625/625 [00:38<00:00, 16.07it/s]\n"
     ]
    },
    {
     "name": "stdout",
     "output_type": "stream",
     "text": [
      "Epoch : [2] Train Loss : [0.30570546485073863] Val Loss : [0.15608274803329258] Val ACC : [0.9527]\n"
     ]
    },
    {
     "name": "stderr",
     "output_type": "stream",
     "text": [
      "100%|██████████| 625/625 [00:38<00:00, 16.23it/s]\n"
     ]
    },
    {
     "name": "stdout",
     "output_type": "stream",
     "text": [
      "Epoch : [3] Train Loss : [0.19921654621912166] Val Loss : [0.11671418849704787] Val ACC : [0.965]\n"
     ]
    },
    {
     "name": "stderr",
     "output_type": "stream",
     "text": [
      "100%|██████████| 625/625 [00:39<00:00, 15.85it/s]\n"
     ]
    },
    {
     "name": "stdout",
     "output_type": "stream",
     "text": [
      "Epoch : [4] Train Loss : [0.15007107796666677] Val Loss : [0.09965064402590505] Val ACC : [0.9736]\n"
     ]
    },
    {
     "name": "stderr",
     "output_type": "stream",
     "text": [
      "100%|██████████| 625/625 [00:39<00:00, 16.01it/s]\n"
     ]
    },
    {
     "name": "stdout",
     "output_type": "stream",
     "text": [
      "Epoch : [5] Train Loss : [0.11854231607437832] Val Loss : [0.10088497928084107] Val ACC : [0.972]\n"
     ]
    },
    {
     "name": "stderr",
     "output_type": "stream",
     "text": [
      "100%|██████████| 625/625 [00:38<00:00, 16.13it/s]\n"
     ]
    },
    {
     "name": "stdout",
     "output_type": "stream",
     "text": [
      "Epoch : [6] Train Loss : [0.10227000968698412] Val Loss : [0.09339812996753026] Val ACC : [0.9747]\n"
     ]
    },
    {
     "name": "stderr",
     "output_type": "stream",
     "text": [
      "100%|██████████| 625/625 [00:38<00:00, 16.04it/s]\n"
     ]
    },
    {
     "name": "stdout",
     "output_type": "stream",
     "text": [
      "Epoch : [7] Train Loss : [0.08550131280935021] Val Loss : [0.09638116193697788] Val ACC : [0.9747]\n"
     ]
    },
    {
     "name": "stderr",
     "output_type": "stream",
     "text": [
      "100%|██████████| 625/625 [00:38<00:00, 16.07it/s]\n"
     ]
    },
    {
     "name": "stdout",
     "output_type": "stream",
     "text": [
      "Epoch : [8] Train Loss : [0.07418274303161307] Val Loss : [0.09017019735547364] Val ACC : [0.978]\n"
     ]
    },
    {
     "name": "stderr",
     "output_type": "stream",
     "text": [
      "100%|██████████| 625/625 [00:38<00:00, 16.16it/s]\n"
     ]
    },
    {
     "name": "stdout",
     "output_type": "stream",
     "text": [
      "Epoch : [9] Train Loss : [0.061490485828252346] Val Loss : [0.10277918177419251] Val ACC : [0.9779]\n"
     ]
    },
    {
     "name": "stderr",
     "output_type": "stream",
     "text": [
      "100%|██████████| 625/625 [00:39<00:00, 15.95it/s]\n"
     ]
    },
    {
     "name": "stdout",
     "output_type": "stream",
     "text": [
      "Epoch : [10] Train Loss : [0.050235766110879196] Val Loss : [0.09643353964279668] Val ACC : [0.9786]\n"
     ]
    },
    {
     "name": "stderr",
     "output_type": "stream",
     "text": [
      "100%|██████████| 625/625 [00:39<00:00, 15.96it/s]\n"
     ]
    },
    {
     "name": "stdout",
     "output_type": "stream",
     "text": [
      "Epoch : [11] Train Loss : [0.04698612677420096] Val Loss : [0.09866471939594684] Val ACC : [0.9787]\n"
     ]
    },
    {
     "name": "stderr",
     "output_type": "stream",
     "text": [
      "100%|██████████| 625/625 [00:38<00:00, 16.12it/s]\n"
     ]
    },
    {
     "name": "stdout",
     "output_type": "stream",
     "text": [
      "Epoch : [12] Train Loss : [0.042602504862202246] Val Loss : [0.10638690334593193] Val ACC : [0.9774]\n"
     ]
    },
    {
     "name": "stderr",
     "output_type": "stream",
     "text": [
      "100%|██████████| 625/625 [00:38<00:00, 16.03it/s]\n"
     ]
    },
    {
     "name": "stdout",
     "output_type": "stream",
     "text": [
      "Epoch : [13] Train Loss : [0.03500280712177791] Val Loss : [0.10803611990630298] Val ACC : [0.9806]\n"
     ]
    },
    {
     "name": "stderr",
     "output_type": "stream",
     "text": [
      "100%|██████████| 625/625 [00:38<00:00, 16.17it/s]\n"
     ]
    },
    {
     "name": "stdout",
     "output_type": "stream",
     "text": [
      "Epoch : [14] Train Loss : [0.032607020401913635] Val Loss : [0.11692542631004887] Val ACC : [0.9768]\n"
     ]
    },
    {
     "name": "stderr",
     "output_type": "stream",
     "text": [
      "100%|██████████| 625/625 [00:39<00:00, 15.81it/s]\n"
     ]
    },
    {
     "name": "stdout",
     "output_type": "stream",
     "text": [
      "Epoch : [15] Train Loss : [0.028992525454173666] Val Loss : [0.1137693561090414] Val ACC : [0.9783]\n"
     ]
    },
    {
     "name": "stderr",
     "output_type": "stream",
     "text": [
      "100%|██████████| 625/625 [00:39<00:00, 15.94it/s]\n"
     ]
    },
    {
     "name": "stdout",
     "output_type": "stream",
     "text": [
      "Epoch : [16] Train Loss : [0.026112085358975787] Val Loss : [0.1211759643241762] Val ACC : [0.9785]\n"
     ]
    },
    {
     "name": "stderr",
     "output_type": "stream",
     "text": [
      "100%|██████████| 625/625 [00:38<00:00, 16.05it/s]\n"
     ]
    },
    {
     "name": "stdout",
     "output_type": "stream",
     "text": [
      "Epoch : [17] Train Loss : [0.02240712201522376] Val Loss : [0.13753253890354913] Val ACC : [0.978]\n"
     ]
    },
    {
     "name": "stderr",
     "output_type": "stream",
     "text": [
      "100%|██████████| 625/625 [00:38<00:00, 16.08it/s]\n"
     ]
    },
    {
     "name": "stdout",
     "output_type": "stream",
     "text": [
      "Epoch : [18] Train Loss : [0.021230535404236424] Val Loss : [0.1371668899551816] Val ACC : [0.977]\n"
     ]
    },
    {
     "name": "stderr",
     "output_type": "stream",
     "text": [
      "100%|██████████| 625/625 [00:39<00:00, 15.86it/s]\n"
     ]
    },
    {
     "name": "stdout",
     "output_type": "stream",
     "text": [
      "Epoch : [19] Train Loss : [0.021830233565570414] Val Loss : [0.13751289419014825] Val ACC : [0.9795]\n"
     ]
    },
    {
     "name": "stderr",
     "output_type": "stream",
     "text": [
      "100%|██████████| 625/625 [00:39<00:00, 15.81it/s]\n"
     ]
    },
    {
     "name": "stdout",
     "output_type": "stream",
     "text": [
      "Epoch : [20] Train Loss : [0.01950306455333371] Val Loss : [0.14030100687026442] Val ACC : [0.977]\n"
     ]
    },
    {
     "name": "stderr",
     "output_type": "stream",
     "text": [
      "100%|██████████| 625/625 [00:39<00:00, 15.98it/s]\n"
     ]
    },
    {
     "name": "stdout",
     "output_type": "stream",
     "text": [
      "Epoch : [21] Train Loss : [0.01653069171112895] Val Loss : [0.13115523913124555] Val ACC : [0.9798]\n"
     ]
    },
    {
     "name": "stderr",
     "output_type": "stream",
     "text": [
      "100%|██████████| 625/625 [00:38<00:00, 16.07it/s]\n"
     ]
    },
    {
     "name": "stdout",
     "output_type": "stream",
     "text": [
      "Epoch : [22] Train Loss : [0.016285538473709043] Val Loss : [0.13633347319130248] Val ACC : [0.9808]\n"
     ]
    },
    {
     "name": "stderr",
     "output_type": "stream",
     "text": [
      "100%|██████████| 625/625 [00:39<00:00, 15.85it/s]\n"
     ]
    },
    {
     "name": "stdout",
     "output_type": "stream",
     "text": [
      "Epoch : [23] Train Loss : [0.016299761750373513] Val Loss : [0.12857682993959502] Val ACC : [0.9811]\n"
     ]
    },
    {
     "name": "stderr",
     "output_type": "stream",
     "text": [
      "100%|██████████| 625/625 [00:39<00:00, 15.91it/s]\n"
     ]
    },
    {
     "name": "stdout",
     "output_type": "stream",
     "text": [
      "Epoch : [24] Train Loss : [0.01560225643285495] Val Loss : [0.13259504256917104] Val ACC : [0.9774]\n"
     ]
    },
    {
     "name": "stderr",
     "output_type": "stream",
     "text": [
      "100%|██████████| 625/625 [00:39<00:00, 15.95it/s]\n"
     ]
    },
    {
     "name": "stdout",
     "output_type": "stream",
     "text": [
      "Epoch : [25] Train Loss : [0.014003959466953122] Val Loss : [0.15179655827463007] Val ACC : [0.9791]\n"
     ]
    },
    {
     "name": "stderr",
     "output_type": "stream",
     "text": [
      "100%|██████████| 625/625 [00:39<00:00, 15.84it/s]\n"
     ]
    },
    {
     "name": "stdout",
     "output_type": "stream",
     "text": [
      "Epoch : [26] Train Loss : [0.01270710749938573] Val Loss : [0.14248375583053416] Val ACC : [0.9805]\n"
     ]
    },
    {
     "name": "stderr",
     "output_type": "stream",
     "text": [
      "100%|██████████| 625/625 [00:38<00:00, 16.12it/s]\n"
     ]
    },
    {
     "name": "stdout",
     "output_type": "stream",
     "text": [
      "Epoch : [27] Train Loss : [0.014909268187025506] Val Loss : [0.15494314304135778] Val ACC : [0.9783]\n"
     ]
    },
    {
     "name": "stderr",
     "output_type": "stream",
     "text": [
      "100%|██████████| 625/625 [00:38<00:00, 16.09it/s]\n"
     ]
    },
    {
     "name": "stdout",
     "output_type": "stream",
     "text": [
      "Epoch : [28] Train Loss : [0.012480351082040698] Val Loss : [0.17346102358778254] Val ACC : [0.9759]\n"
     ]
    },
    {
     "name": "stderr",
     "output_type": "stream",
     "text": [
      "100%|██████████| 625/625 [00:39<00:00, 15.90it/s]\n"
     ]
    },
    {
     "name": "stdout",
     "output_type": "stream",
     "text": [
      "Epoch : [29] Train Loss : [0.012166660542035137] Val Loss : [0.1572348343610171] Val ACC : [0.9784]\n"
     ]
    },
    {
     "name": "stderr",
     "output_type": "stream",
     "text": [
      "100%|██████████| 625/625 [00:39<00:00, 16.02it/s]"
     ]
    },
    {
     "name": "stdout",
     "output_type": "stream",
     "text": [
      "Epoch : [30] Train Loss : [0.012196324776049795] Val Loss : [0.15280620229821457] Val ACC : [0.9793]\n"
     ]
    },
    {
     "name": "stderr",
     "output_type": "stream",
     "text": [
      "\n"
     ]
    }
   ],
   "source": [
    "model = BaseModel()\n",
    "model.eval()\n",
    "\n",
    "optimizer = torch.optim.Adam(params = model.parameters(), lr = LEARNING_RATE)\n",
    "scheduler = None\n",
    "\n",
    "train(model, optimizer, train_loader, val_loader, scheduler, device)"
   ]
  },
  {
   "cell_type": "code",
   "execution_count": 44,
   "id": "9692cc6c-5d41-4b54-a1fd-04e3f0ba11fe",
   "metadata": {},
   "outputs": [],
   "source": [
    "test_df = pd.read_csv('datasets/sample_submission.csv')\n",
    "test_points = h5py.File('datasets/test.h5', 'r')"
   ]
  },
  {
   "cell_type": "code",
   "execution_count": 45,
   "id": "04a6d26e-abbf-4488-94f1-81272dc4d7f2",
   "metadata": {},
   "outputs": [],
   "source": [
    "test_dataset = CustomDataset(test_df['ID'].values, None, test_points)\n",
    "test_loader = DataLoader(test_dataset, batch_size=16, shuffle=False, num_workers=0)"
   ]
  },
  {
   "cell_type": "code",
   "execution_count": 46,
   "id": "bab0f9d2-b0ec-4b2c-b609-ef035a267a19",
   "metadata": {},
   "outputs": [
    {
     "data": {
      "text/plain": [
       "BaseModel(\n",
       "  (feature_extract): Sequential(\n",
       "    (0): Conv3d(1, 8, kernel_size=(3, 3, 3), stride=(1, 1, 1))\n",
       "    (1): ReLU()\n",
       "    (2): BatchNorm3d(8, eps=1e-05, momentum=0.1, affine=True, track_running_stats=True)\n",
       "    (3): Conv3d(8, 32, kernel_size=(3, 3, 3), stride=(1, 1, 1))\n",
       "    (4): ReLU()\n",
       "    (5): BatchNorm3d(32, eps=1e-05, momentum=0.1, affine=True, track_running_stats=True)\n",
       "    (6): MaxPool3d(kernel_size=4, stride=4, padding=0, dilation=1, ceil_mode=False)\n",
       "    (7): Conv3d(32, 128, kernel_size=(3, 3, 3), stride=(1, 1, 1))\n",
       "    (8): ReLU()\n",
       "  )\n",
       "  (classifier): Sequential(\n",
       "    (0): Linear(in_features=128, out_features=64, bias=True)\n",
       "    (1): ReLU()\n",
       "    (2): Dropout(p=0.3, inplace=False)\n",
       "    (3): Linear(in_features=64, out_features=32, bias=True)\n",
       "    (4): ReLU()\n",
       "    (5): Dropout(p=0.3, inplace=False)\n",
       "    (6): Linear(in_features=32, out_features=10, bias=True)\n",
       "  )\n",
       ")"
      ]
     },
     "execution_count": 46,
     "metadata": {},
     "output_type": "execute_result"
    }
   ],
   "source": [
    "checkpoint = torch.load('./best_model.pth')\n",
    "model = BaseModel()\n",
    "model.load_state_dict(checkpoint)\n",
    "model.eval()"
   ]
  },
  {
   "cell_type": "code",
   "execution_count": 47,
   "id": "3317de73-94cd-465e-9055-dd0f7982c2b0",
   "metadata": {},
   "outputs": [],
   "source": [
    "def predict(model, test_loader, device):\n",
    "    model.to(device)\n",
    "    model.eval()\n",
    "    model_preds = []\n",
    "    with torch.no_grad():\n",
    "        for data in tqdm(iter(test_loader)):\n",
    "            data = data.float().to(device)\n",
    "            \n",
    "            batch_pred = model(data)\n",
    "            \n",
    "            model_preds += batch_pred.argmax(1).detach().cpu().numpy().tolist()\n",
    "    \n",
    "    return model_preds"
   ]
  },
  {
   "cell_type": "code",
   "execution_count": 48,
   "id": "f63372fd-a0e9-4029-ae1c-20f34cbb0c7d",
   "metadata": {},
   "outputs": [
    {
     "name": "stderr",
     "output_type": "stream",
     "text": [
      "100%|██████████| 2500/2500 [03:16<00:00, 12.73it/s]\n"
     ]
    }
   ],
   "source": [
    "preds = predict(model, test_loader, device)"
   ]
  },
  {
   "cell_type": "code",
   "execution_count": 49,
   "id": "ab35e910-5abc-4f19-9b3c-cb929169d832",
   "metadata": {},
   "outputs": [],
   "source": [
    "test_df['label'] = preds\n",
    "test_df.to_csv('submit/submit.csv', index=False)"
   ]
  },
  {
   "cell_type": "code",
   "execution_count": null,
   "id": "50270202-5b8c-4642-890b-1c21d1d40307",
   "metadata": {},
   "outputs": [],
   "source": []
  },
  {
   "cell_type": "code",
   "execution_count": null,
   "id": "3407eb95-6349-4436-b316-9c19acbf8867",
   "metadata": {},
   "outputs": [],
   "source": []
  }
 ],
 "metadata": {
  "kernelspec": {
   "display_name": "bio",
   "language": "python",
   "name": "bio"
  },
  "language_info": {
   "codemirror_mode": {
    "name": "ipython",
    "version": 3
   },
   "file_extension": ".py",
   "mimetype": "text/x-python",
   "name": "python",
   "nbconvert_exporter": "python",
   "pygments_lexer": "ipython3",
   "version": "3.9.12"
  }
 },
 "nbformat": 4,
 "nbformat_minor": 5
}
